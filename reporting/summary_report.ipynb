{
 "cells": [
  {
   "cell_type": "code",
   "execution_count": 113,
   "metadata": {},
   "outputs": [],
   "source": [
    "import pickle\n",
    "from IPython.display import Markdown as md\n",
    "from time import gmtime, strftime\n",
    "from platform import platform\n",
    "import pandas as pd\n",
    "import plotly.offline as py\n",
    "import plotly.graph_objs as go"
   ]
  },
  {
   "cell_type": "code",
   "execution_count": 114,
   "metadata": {},
   "outputs": [],
   "source": [
    "def print_records_summary(log):\n",
    "    \n",
    "    s = []\n",
    "    for k, row in log.loc[['_RECORDS' in x for x in log['key']], :].iterrows():\n",
    "\n",
    "        s.append(row['key'] + ': ' + row['value'])\n",
    "    \n",
    "    return(s)"
   ]
  },
  {
   "cell_type": "code",
   "execution_count": 115,
   "metadata": {},
   "outputs": [],
   "source": [
    "report = pickle.load( open( \"../tmp/report.pickle\", \"rb\" ) )\n",
    "report_master = pd.DataFrame(report['master']).dropna(subset = ['key'])\n",
    "master = pd.read_csv('../tmp/master/master.csv', low_memory=False)"
   ]
  },
  {
   "cell_type": "markdown",
   "metadata": {},
   "source": [
    "# WHO PHSM Cleaning Summary Report"
   ]
  },
  {
   "cell_type": "code",
   "execution_count": 116,
   "metadata": {},
   "outputs": [
    {
     "data": {
      "text/markdown": [
       "<b>Data release:</b> 2020-11-18 20:13:24"
      ],
      "text/plain": [
       "<IPython.core.display.Markdown object>"
      ]
     },
     "execution_count": 116,
     "metadata": {},
     "output_type": "execute_result"
    }
   ],
   "source": [
    "md('<b>Data release:</b> ' + strftime(\"%Y-%m-%d %H:%M:%S\", gmtime()))"
   ]
  },
  {
   "cell_type": "markdown",
   "metadata": {},
   "source": [
    "### Total records"
   ]
  },
  {
   "cell_type": "code",
   "execution_count": 117,
   "metadata": {},
   "outputs": [
    {
     "data": {
      "text/markdown": [
       "ACAPS_RECORDS: 21967<br>CDC_ITF_RECORDS: 8805<br>JH_HIT_RECORDS: 6795<br>OXCGRT_RECORDS: 2617<br>OxCGRT_RECORDS: 31375<br>not_cleansed_RECORDS: 5285<br>sequenced_RECORDS: 66274"
      ],
      "text/plain": [
       "<IPython.core.display.Markdown object>"
      ]
     },
     "execution_count": 117,
     "metadata": {},
     "output_type": "execute_result"
    }
   ],
   "source": [
    "s = print_records_summary(report_master)\n",
    "md('<br>'.join(s))"
   ]
  },
  {
   "cell_type": "markdown",
   "metadata": {},
   "source": [
    "### Countries"
   ]
  },
  {
   "cell_type": "code",
   "execution_count": 119,
   "metadata": {},
   "outputs": [
    {
     "data": {
      "text/html": [
       "<div>\n",
       "<style scoped>\n",
       "    .dataframe tbody tr th:only-of-type {\n",
       "        vertical-align: middle;\n",
       "    }\n",
       "\n",
       "    .dataframe tbody tr th {\n",
       "        vertical-align: top;\n",
       "    }\n",
       "\n",
       "    .dataframe thead th {\n",
       "        text-align: right;\n",
       "    }\n",
       "</style>\n",
       "<table border=\"1\" class=\"dataframe\">\n",
       "  <thead>\n",
       "    <tr style=\"text-align: right;\">\n",
       "      <th>dataset</th>\n",
       "      <th>ACAPS</th>\n",
       "      <th>CDC_ITF</th>\n",
       "      <th>JH_HIT</th>\n",
       "      <th>OxCGRT</th>\n",
       "    </tr>\n",
       "    <tr>\n",
       "      <th>country_territory_area</th>\n",
       "      <th></th>\n",
       "      <th></th>\n",
       "      <th></th>\n",
       "      <th></th>\n",
       "    </tr>\n",
       "  </thead>\n",
       "  <tbody>\n",
       "    <tr>\n",
       "      <th>Afghanistan</th>\n",
       "      <td>58.0</td>\n",
       "      <td>33.0</td>\n",
       "      <td>32.0</td>\n",
       "      <td>88.0</td>\n",
       "    </tr>\n",
       "    <tr>\n",
       "      <th>Albania</th>\n",
       "      <td>73.0</td>\n",
       "      <td>49.0</td>\n",
       "      <td>NaN</td>\n",
       "      <td>131.0</td>\n",
       "    </tr>\n",
       "    <tr>\n",
       "      <th>Algeria</th>\n",
       "      <td>96.0</td>\n",
       "      <td>40.0</td>\n",
       "      <td>16.0</td>\n",
       "      <td>88.0</td>\n",
       "    </tr>\n",
       "    <tr>\n",
       "      <th>American Samoa</th>\n",
       "      <td>NaN</td>\n",
       "      <td>NaN</td>\n",
       "      <td>14.0</td>\n",
       "      <td>NaN</td>\n",
       "    </tr>\n",
       "    <tr>\n",
       "      <th>Andorra</th>\n",
       "      <td>NaN</td>\n",
       "      <td>14.0</td>\n",
       "      <td>NaN</td>\n",
       "      <td>83.0</td>\n",
       "    </tr>\n",
       "    <tr>\n",
       "      <th>...</th>\n",
       "      <td>...</td>\n",
       "      <td>...</td>\n",
       "      <td>...</td>\n",
       "      <td>...</td>\n",
       "    </tr>\n",
       "    <tr>\n",
       "      <th>Venezuela, Bolivarian Republic Of</th>\n",
       "      <td>87.0</td>\n",
       "      <td>25.0</td>\n",
       "      <td>45.0</td>\n",
       "      <td>114.0</td>\n",
       "    </tr>\n",
       "    <tr>\n",
       "      <th>Viet Nam</th>\n",
       "      <td>107.0</td>\n",
       "      <td>83.0</td>\n",
       "      <td>NaN</td>\n",
       "      <td>180.0</td>\n",
       "    </tr>\n",
       "    <tr>\n",
       "      <th>Yemen</th>\n",
       "      <td>48.0</td>\n",
       "      <td>23.0</td>\n",
       "      <td>NaN</td>\n",
       "      <td>47.0</td>\n",
       "    </tr>\n",
       "    <tr>\n",
       "      <th>Zambia</th>\n",
       "      <td>36.0</td>\n",
       "      <td>32.0</td>\n",
       "      <td>10.0</td>\n",
       "      <td>114.0</td>\n",
       "    </tr>\n",
       "    <tr>\n",
       "      <th>Zimbabwe</th>\n",
       "      <td>35.0</td>\n",
       "      <td>33.0</td>\n",
       "      <td>28.0</td>\n",
       "      <td>119.0</td>\n",
       "    </tr>\n",
       "  </tbody>\n",
       "</table>\n",
       "<p>227 rows × 4 columns</p>\n",
       "</div>"
      ],
      "text/plain": [
       "dataset                            ACAPS  CDC_ITF  JH_HIT  OxCGRT\n",
       "country_territory_area                                           \n",
       "Afghanistan                         58.0     33.0    32.0    88.0\n",
       "Albania                             73.0     49.0     NaN   131.0\n",
       "Algeria                             96.0     40.0    16.0    88.0\n",
       "American Samoa                       NaN      NaN    14.0     NaN\n",
       "Andorra                              NaN     14.0     NaN    83.0\n",
       "...                                  ...      ...     ...     ...\n",
       "Venezuela, Bolivarian Republic Of   87.0     25.0    45.0   114.0\n",
       "Viet Nam                           107.0     83.0     NaN   180.0\n",
       "Yemen                               48.0     23.0     NaN    47.0\n",
       "Zambia                              36.0     32.0    10.0   114.0\n",
       "Zimbabwe                            35.0     33.0    28.0   119.0\n",
       "\n",
       "[227 rows x 4 columns]"
      ]
     },
     "execution_count": 119,
     "metadata": {},
     "output_type": "execute_result"
    }
   ],
   "source": [
    "m = master.loc[master['processed'] == 'sequenced', ['dataset', 'country_territory_area', 'who_id']]\n",
    "m = m.groupby(['dataset', 'country_territory_area']).count().reset_index()\n",
    "m = m.pivot(index='country_territory_area', columns='dataset', values='who_id')\n",
    "m = m.sort_values(by = 'OXCGRT', ascending = False)"
   ]
  },
  {
   "cell_type": "code",
   "execution_count": 112,
   "metadata": {},
   "outputs": [
    {
     "data": {
      "application/vnd.plotly.v1+json": {
       "config": {
        "linkText": "Export to plot.ly",
        "plotlyServerURL": "https://plot.ly",
        "showLink": false
       },
       "data": [
        {
         "name": "ACAPS",
         "orientation": "h",
         "type": "bar",
         "x": [
          340,
          71,
          318,
          204,
          71,
          69,
          101,
          64,
          214,
          91,
          96,
          134,
          60,
          408,
          107,
          131,
          67,
          205,
          133,
          104,
          132,
          205,
          90,
          76,
          92,
          216,
          143,
          152,
          173,
          null,
          93,
          88,
          73,
          78,
          51,
          53,
          173,
          92,
          155,
          65,
          296,
          108,
          395,
          60,
          45,
          147,
          101,
          81,
          95,
          35,
          98,
          122,
          129,
          109,
          262,
          90,
          229,
          190,
          237,
          107,
          73,
          89,
          169,
          139,
          146,
          70,
          135,
          48,
          61,
          130,
          217,
          111,
          71,
          202,
          56,
          62,
          282,
          49,
          40,
          47,
          83,
          30,
          40,
          144,
          59,
          74,
          164,
          76,
          null,
          null,
          31,
          222,
          116,
          86,
          77,
          36,
          34,
          165,
          91,
          111,
          210,
          74,
          104,
          45,
          49,
          64,
          93,
          null,
          85,
          75,
          54,
          134,
          62,
          125,
          62,
          34,
          27,
          97,
          25,
          116,
          97,
          51,
          78,
          60,
          124,
          91,
          58,
          49,
          96,
          189,
          154,
          153,
          121,
          null,
          49,
          65,
          109,
          127,
          32,
          43,
          64,
          157,
          76,
          39,
          37,
          123,
          83,
          64,
          92,
          80,
          34,
          25,
          50,
          42,
          null,
          34,
          66,
          37,
          42,
          142,
          30,
          null,
          19,
          14,
          27,
          23,
          null,
          42,
          102,
          null,
          78,
          75,
          null,
          41,
          null,
          null,
          null,
          2,
          25,
          44,
          null,
          null,
          83,
          69,
          137,
          null,
          35,
          null,
          null,
          20,
          149,
          null,
          null,
          106,
          null,
          null,
          73,
          null,
          null,
          22,
          75,
          53,
          97,
          62,
          24,
          null,
          87,
          47,
          null,
          null,
          51,
          null,
          55,
          null,
          null,
          134,
          107,
          null,
          51,
          85,
          75,
          null,
          null,
          82,
          15
         ],
         "y": [
          "United States Of America",
          "United Kingdom Of Great Britain And Northern Ireland",
          "China",
          "Israel",
          "Russian Federation",
          "Brazil",
          "Madagascar",
          "Serbia",
          "Canada",
          "Ireland",
          "Viet Nam",
          "India",
          "Uganda",
          "Australia",
          "Botswana",
          "Bulgaria",
          "Turkey",
          "Belgium",
          "Belize",
          "Sudan",
          "Republic Of Korea",
          "Spain",
          "Georgia",
          "Cote D Ivoire",
          "Bolivia, Plurinational State Of",
          "Austria",
          "Argentina",
          "Greece",
          "Germany",
          "Puerto Rico",
          "Paraguay",
          "Kazakhstan",
          "Guyana",
          "Nigeria",
          "Jamaica",
          "Iran, Islamic Republic Of",
          "Italy",
          "Japan",
          "France",
          "Pakistan",
          "Sri Lanka",
          "Colombia",
          "Philippines",
          "Mongolia",
          "Bahrain",
          "Nepal",
          "Kenya",
          "Trinidad And Tobago",
          "South Africa",
          "Gambia",
          "Honduras",
          "Chile",
          "Papua New Guinea",
          "Cabo Verde",
          "Portugal",
          "Ukraine",
          "Angola",
          "Czech Republic",
          "Singapore",
          "Peru",
          "Albania",
          "Azerbaijan",
          "Slovakia",
          "Panama",
          "Thailand",
          "Rwanda",
          "Iraq",
          "Bangladesh",
          "Kyrgyzstan",
          "Costa Rica",
          "Switzerland",
          "Guatemala",
          "Cuba",
          "Barbados",
          "Malawi",
          "United Arab Emirates",
          "Malaysia",
          "Indonesia",
          "South Sudan",
          "Democratic Republic Of The Congo",
          "Libya",
          "Uzbekistan",
          "Sierra Leone",
          "Lithuania",
          "Chad",
          "Netherlands",
          "Bosnia And Herzegovina",
          "Oman",
          "Guam",
          "Bermuda",
          "Central African Republic",
          "New Zealand",
          "Luxembourg",
          "Namibia",
          "Eswatini",
          "Zambia",
          "Zimbabwe",
          "Hungary",
          "Croatia",
          "El Salvador",
          "Denmark",
          "Slovenia",
          "Ecuador",
          "Syrian Arab Republic",
          "Ethiopia",
          "Myanmar",
          "Sweden",
          "United States Virgin Islands",
          "Venezuela, Bolivarian Republic Of",
          "Ghana",
          "Egypt",
          "Norway",
          "Djibouti",
          "Dominican Republic",
          "Haiti",
          "Tajikistan",
          "Eritrea",
          "Tunisia",
          "San Marino",
          "Kuwait",
          "Cyprus",
          "Lesotho",
          "Bhutan",
          "Liberia",
          "Mozambique",
          "Jordan",
          "Afghanistan",
          "Timor-Leste",
          "Suriname",
          "Estonia",
          "Iceland",
          "Finland",
          "Mexico",
          "Aruba",
          "Lao People's Democratic Republic",
          "Seychelles",
          "Dominica",
          "Fiji",
          "Guinea",
          "Niger",
          "Romania",
          "Latvia",
          "Algeria",
          "Congo",
          "Mauritius",
          "Morocco",
          "Saudi Arabia",
          "Gabon",
          "Uruguay",
          "Lebanon",
          "Togo",
          "Cambodia",
          "Republic Of Moldova",
          "Qatar",
          "Greenland",
          "Burkina Faso",
          "Benin",
          "Mali",
          "Senegal",
          "Poland",
          "Mauritania",
          "Andorra",
          "Somalia",
          "Burundi",
          "Turkmenistan",
          "United Republic Of Tanzania",
          "British Virgin Islands",
          "Cameroon",
          "Brunei Darussalam",
          "Turks And Caicos Islands",
          "Vanuatu",
          "Solomon Islands",
          "Anguilla",
          "Yemen",
          "Gibraltar",
          "Montserrat",
          "Falkland Islands (Malvinas)",
          "Cayman Islands",
          "Nicaragua",
          "Belarus",
          "Pitcairn Islands",
          "American Samoa",
          "Antigua And Barbuda",
          "Armenia",
          "Bahamas",
          "Bonaire, Sint Eustatius And Saba",
          "Comoros",
          "Cook Islands",
          "Curacao",
          "Democratic People's Republic Of Korea",
          "Equatorial Guinea",
          "French Guiana",
          "French Polynesia",
          "Grenada",
          "Guadeloupe",
          "Guernsey",
          "Guinea-Bissau",
          "Isle Of Man",
          "Jersey",
          "Kiribati",
          "Liechtenstein",
          "Maldives",
          "Malta",
          "Marshall Islands",
          "Micronesia, Federated States Of",
          "Monaco",
          "Montenegro",
          "Nauru",
          "New Caledonia",
          "Niue",
          "North Macedonia",
          "Northern Mariana Islands, Commonwealth Of The",
          "Palau",
          "Reunion",
          "Saint Barthelemy",
          "Saint Kitts And Nevis",
          "Saint Lucia",
          "Saint Martin",
          "Saint Vincent And The Grenadines",
          "Samoa",
          "Sao Tome And Principe",
          "Sint Maarten",
          "South Georgia and the South Sandwich Islands",
          "Tonga",
          "Tuvalu"
         ]
        },
        {
         "name": "CDC_ITF",
         "orientation": "h",
         "type": "bar",
         "x": [
          41,
          104,
          231,
          111,
          66,
          51,
          29,
          59,
          88,
          55,
          76,
          103,
          34,
          108,
          42,
          30,
          57,
          53,
          29,
          33,
          97,
          75,
          33,
          36,
          29,
          53,
          50,
          60,
          65,
          12,
          39,
          60,
          14,
          57,
          65,
          66,
          51,
          82,
          83,
          60,
          49,
          39,
          58,
          30,
          38,
          48,
          60,
          29,
          48,
          24,
          38,
          42,
          31,
          23,
          57,
          63,
          33,
          49,
          47,
          32,
          47,
          44,
          35,
          31,
          74,
          44,
          94,
          50,
          35,
          36,
          45,
          41,
          21,
          34,
          17,
          84,
          67,
          38,
          20,
          30,
          38,
          44,
          25,
          36,
          23,
          51,
          27,
          35,
          14,
          null,
          14,
          41,
          33,
          65,
          48,
          27,
          23,
          65,
          30,
          27,
          40,
          51,
          18,
          35,
          22,
          52,
          29,
          9,
          24,
          39,
          49,
          50,
          25,
          22,
          22,
          22,
          20,
          61,
          8,
          42,
          36,
          14,
          19,
          31,
          26,
          96,
          33,
          22,
          31,
          38,
          39,
          41,
          47,
          30,
          31,
          30,
          18,
          34,
          17,
          20,
          44,
          27,
          38,
          26,
          24,
          50,
          74,
          24,
          22,
          68,
          20,
          25,
          20,
          50,
          17,
          25,
          25,
          20,
          30,
          68,
          16,
          13,
          13,
          16,
          20,
          20,
          21,
          18,
          24,
          12,
          17,
          17,
          null,
          23,
          1,
          9,
          null,
          null,
          11,
          11,
          null,
          null,
          21,
          48,
          36,
          8,
          18,
          13,
          25,
          15,
          28,
          5,
          14,
          39,
          6,
          18,
          21,
          9,
          5,
          10,
          18,
          28,
          21,
          17,
          9,
          29,
          34,
          7,
          12,
          9,
          23,
          1,
          13,
          1,
          1,
          20,
          34,
          9,
          18,
          25,
          22,
          1,
          null,
          25,
          9
         ],
         "y": [
          "United States Of America",
          "United Kingdom Of Great Britain And Northern Ireland",
          "China",
          "Israel",
          "Russian Federation",
          "Brazil",
          "Madagascar",
          "Serbia",
          "Canada",
          "Ireland",
          "Viet Nam",
          "India",
          "Uganda",
          "Australia",
          "Botswana",
          "Bulgaria",
          "Turkey",
          "Belgium",
          "Belize",
          "Sudan",
          "Republic Of Korea",
          "Spain",
          "Georgia",
          "Cote D Ivoire",
          "Bolivia, Plurinational State Of",
          "Austria",
          "Argentina",
          "Greece",
          "Germany",
          "Puerto Rico",
          "Paraguay",
          "Kazakhstan",
          "Guyana",
          "Nigeria",
          "Jamaica",
          "Iran, Islamic Republic Of",
          "Italy",
          "Japan",
          "France",
          "Pakistan",
          "Sri Lanka",
          "Colombia",
          "Philippines",
          "Mongolia",
          "Bahrain",
          "Nepal",
          "Kenya",
          "Trinidad And Tobago",
          "South Africa",
          "Gambia",
          "Honduras",
          "Chile",
          "Papua New Guinea",
          "Cabo Verde",
          "Portugal",
          "Ukraine",
          "Angola",
          "Czech Republic",
          "Singapore",
          "Peru",
          "Albania",
          "Azerbaijan",
          "Slovakia",
          "Panama",
          "Thailand",
          "Rwanda",
          "Iraq",
          "Bangladesh",
          "Kyrgyzstan",
          "Costa Rica",
          "Switzerland",
          "Guatemala",
          "Cuba",
          "Barbados",
          "Malawi",
          "United Arab Emirates",
          "Malaysia",
          "Indonesia",
          "South Sudan",
          "Democratic Republic Of The Congo",
          "Libya",
          "Uzbekistan",
          "Sierra Leone",
          "Lithuania",
          "Chad",
          "Netherlands",
          "Bosnia And Herzegovina",
          "Oman",
          "Guam",
          "Bermuda",
          "Central African Republic",
          "New Zealand",
          "Luxembourg",
          "Namibia",
          "Eswatini",
          "Zambia",
          "Zimbabwe",
          "Hungary",
          "Croatia",
          "El Salvador",
          "Denmark",
          "Slovenia",
          "Ecuador",
          "Syrian Arab Republic",
          "Ethiopia",
          "Myanmar",
          "Sweden",
          "United States Virgin Islands",
          "Venezuela, Bolivarian Republic Of",
          "Ghana",
          "Egypt",
          "Norway",
          "Djibouti",
          "Dominican Republic",
          "Haiti",
          "Tajikistan",
          "Eritrea",
          "Tunisia",
          "San Marino",
          "Kuwait",
          "Cyprus",
          "Lesotho",
          "Bhutan",
          "Liberia",
          "Mozambique",
          "Jordan",
          "Afghanistan",
          "Timor-Leste",
          "Suriname",
          "Estonia",
          "Iceland",
          "Finland",
          "Mexico",
          "Aruba",
          "Lao People's Democratic Republic",
          "Seychelles",
          "Dominica",
          "Fiji",
          "Guinea",
          "Niger",
          "Romania",
          "Latvia",
          "Algeria",
          "Congo",
          "Mauritius",
          "Morocco",
          "Saudi Arabia",
          "Gabon",
          "Uruguay",
          "Lebanon",
          "Togo",
          "Cambodia",
          "Republic Of Moldova",
          "Qatar",
          "Greenland",
          "Burkina Faso",
          "Benin",
          "Mali",
          "Senegal",
          "Poland",
          "Mauritania",
          "Andorra",
          "Somalia",
          "Burundi",
          "Turkmenistan",
          "United Republic Of Tanzania",
          "British Virgin Islands",
          "Cameroon",
          "Brunei Darussalam",
          "Turks And Caicos Islands",
          "Vanuatu",
          "Solomon Islands",
          "Anguilla",
          "Yemen",
          "Gibraltar",
          "Montserrat",
          "Falkland Islands (Malvinas)",
          "Cayman Islands",
          "Nicaragua",
          "Belarus",
          "Pitcairn Islands",
          "American Samoa",
          "Antigua And Barbuda",
          "Armenia",
          "Bahamas",
          "Bonaire, Sint Eustatius And Saba",
          "Comoros",
          "Cook Islands",
          "Curacao",
          "Democratic People's Republic Of Korea",
          "Equatorial Guinea",
          "French Guiana",
          "French Polynesia",
          "Grenada",
          "Guadeloupe",
          "Guernsey",
          "Guinea-Bissau",
          "Isle Of Man",
          "Jersey",
          "Kiribati",
          "Liechtenstein",
          "Maldives",
          "Malta",
          "Marshall Islands",
          "Micronesia, Federated States Of",
          "Monaco",
          "Montenegro",
          "Nauru",
          "New Caledonia",
          "Niue",
          "North Macedonia",
          "Northern Mariana Islands, Commonwealth Of The",
          "Palau",
          "Reunion",
          "Saint Barthelemy",
          "Saint Kitts And Nevis",
          "Saint Lucia",
          "Saint Martin",
          "Saint Vincent And The Grenadines",
          "Samoa",
          "Sao Tome And Principe",
          "Sint Maarten",
          "South Georgia and the South Sandwich Islands",
          "Tonga",
          "Tuvalu"
         ]
        },
        {
         "name": "JH_HIT",
         "orientation": "h",
         "type": "bar",
         "x": [
          379,
          30,
          307,
          null,
          103,
          50,
          25,
          null,
          47,
          3,
          null,
          401,
          21,
          82,
          21,
          2,
          132,
          null,
          28,
          26,
          71,
          21,
          null,
          31,
          97,
          null,
          47,
          18,
          18,
          11,
          9,
          null,
          8,
          null,
          24,
          3,
          98,
          61,
          20,
          26,
          50,
          23,
          null,
          null,
          29,
          8,
          60,
          null,
          19,
          28,
          1,
          16,
          57,
          null,
          null,
          15,
          17,
          42,
          25,
          16,
          null,
          9,
          null,
          null,
          24,
          14,
          35,
          16,
          null,
          null,
          102,
          null,
          null,
          null,
          19,
          null,
          30,
          null,
          10,
          45,
          59,
          37,
          1,
          null,
          25,
          35,
          null,
          49,
          null,
          null,
          17,
          27,
          39,
          57,
          17,
          10,
          11,
          null,
          1,
          24,
          38,
          48,
          15,
          null,
          3,
          59,
          null,
          18,
          45,
          null,
          8,
          72,
          7,
          46,
          null,
          null,
          null,
          40,
          null,
          null,
          null,
          13,
          3,
          4,
          40,
          null,
          32,
          null,
          7,
          null,
          null,
          null,
          1,
          null,
          51,
          null,
          null,
          null,
          13,
          12,
          38,
          null,
          16,
          null,
          52,
          57,
          94,
          44,
          12,
          null,
          9,
          21,
          null,
          6,
          10,
          8,
          11,
          11,
          35,
          25,
          33,
          null,
          6,
          10,
          null,
          22,
          null,
          18,
          null,
          null,
          null,
          null,
          null,
          null,
          null,
          null,
          null,
          null,
          null,
          null,
          null,
          14,
          null,
          null,
          52,
          null,
          null,
          null,
          null,
          null,
          23,
          38,
          null,
          9,
          null,
          18,
          23,
          33,
          24,
          null,
          5,
          null,
          null,
          29,
          null,
          6,
          null,
          18,
          null,
          null,
          null,
          6,
          null,
          19,
          null,
          null,
          null,
          null,
          5,
          null,
          null,
          null,
          1,
          30,
          null
         ],
         "y": [
          "United States Of America",
          "United Kingdom Of Great Britain And Northern Ireland",
          "China",
          "Israel",
          "Russian Federation",
          "Brazil",
          "Madagascar",
          "Serbia",
          "Canada",
          "Ireland",
          "Viet Nam",
          "India",
          "Uganda",
          "Australia",
          "Botswana",
          "Bulgaria",
          "Turkey",
          "Belgium",
          "Belize",
          "Sudan",
          "Republic Of Korea",
          "Spain",
          "Georgia",
          "Cote D Ivoire",
          "Bolivia, Plurinational State Of",
          "Austria",
          "Argentina",
          "Greece",
          "Germany",
          "Puerto Rico",
          "Paraguay",
          "Kazakhstan",
          "Guyana",
          "Nigeria",
          "Jamaica",
          "Iran, Islamic Republic Of",
          "Italy",
          "Japan",
          "France",
          "Pakistan",
          "Sri Lanka",
          "Colombia",
          "Philippines",
          "Mongolia",
          "Bahrain",
          "Nepal",
          "Kenya",
          "Trinidad And Tobago",
          "South Africa",
          "Gambia",
          "Honduras",
          "Chile",
          "Papua New Guinea",
          "Cabo Verde",
          "Portugal",
          "Ukraine",
          "Angola",
          "Czech Republic",
          "Singapore",
          "Peru",
          "Albania",
          "Azerbaijan",
          "Slovakia",
          "Panama",
          "Thailand",
          "Rwanda",
          "Iraq",
          "Bangladesh",
          "Kyrgyzstan",
          "Costa Rica",
          "Switzerland",
          "Guatemala",
          "Cuba",
          "Barbados",
          "Malawi",
          "United Arab Emirates",
          "Malaysia",
          "Indonesia",
          "South Sudan",
          "Democratic Republic Of The Congo",
          "Libya",
          "Uzbekistan",
          "Sierra Leone",
          "Lithuania",
          "Chad",
          "Netherlands",
          "Bosnia And Herzegovina",
          "Oman",
          "Guam",
          "Bermuda",
          "Central African Republic",
          "New Zealand",
          "Luxembourg",
          "Namibia",
          "Eswatini",
          "Zambia",
          "Zimbabwe",
          "Hungary",
          "Croatia",
          "El Salvador",
          "Denmark",
          "Slovenia",
          "Ecuador",
          "Syrian Arab Republic",
          "Ethiopia",
          "Myanmar",
          "Sweden",
          "United States Virgin Islands",
          "Venezuela, Bolivarian Republic Of",
          "Ghana",
          "Egypt",
          "Norway",
          "Djibouti",
          "Dominican Republic",
          "Haiti",
          "Tajikistan",
          "Eritrea",
          "Tunisia",
          "San Marino",
          "Kuwait",
          "Cyprus",
          "Lesotho",
          "Bhutan",
          "Liberia",
          "Mozambique",
          "Jordan",
          "Afghanistan",
          "Timor-Leste",
          "Suriname",
          "Estonia",
          "Iceland",
          "Finland",
          "Mexico",
          "Aruba",
          "Lao People's Democratic Republic",
          "Seychelles",
          "Dominica",
          "Fiji",
          "Guinea",
          "Niger",
          "Romania",
          "Latvia",
          "Algeria",
          "Congo",
          "Mauritius",
          "Morocco",
          "Saudi Arabia",
          "Gabon",
          "Uruguay",
          "Lebanon",
          "Togo",
          "Cambodia",
          "Republic Of Moldova",
          "Qatar",
          "Greenland",
          "Burkina Faso",
          "Benin",
          "Mali",
          "Senegal",
          "Poland",
          "Mauritania",
          "Andorra",
          "Somalia",
          "Burundi",
          "Turkmenistan",
          "United Republic Of Tanzania",
          "British Virgin Islands",
          "Cameroon",
          "Brunei Darussalam",
          "Turks And Caicos Islands",
          "Vanuatu",
          "Solomon Islands",
          "Anguilla",
          "Yemen",
          "Gibraltar",
          "Montserrat",
          "Falkland Islands (Malvinas)",
          "Cayman Islands",
          "Nicaragua",
          "Belarus",
          "Pitcairn Islands",
          "American Samoa",
          "Antigua And Barbuda",
          "Armenia",
          "Bahamas",
          "Bonaire, Sint Eustatius And Saba",
          "Comoros",
          "Cook Islands",
          "Curacao",
          "Democratic People's Republic Of Korea",
          "Equatorial Guinea",
          "French Guiana",
          "French Polynesia",
          "Grenada",
          "Guadeloupe",
          "Guernsey",
          "Guinea-Bissau",
          "Isle Of Man",
          "Jersey",
          "Kiribati",
          "Liechtenstein",
          "Maldives",
          "Malta",
          "Marshall Islands",
          "Micronesia, Federated States Of",
          "Monaco",
          "Montenegro",
          "Nauru",
          "New Caledonia",
          "Niue",
          "North Macedonia",
          "Northern Mariana Islands, Commonwealth Of The",
          "Palau",
          "Reunion",
          "Saint Barthelemy",
          "Saint Kitts And Nevis",
          "Saint Lucia",
          "Saint Martin",
          "Saint Vincent And The Grenadines",
          "Samoa",
          "Sao Tome And Principe",
          "Sint Maarten",
          "South Georgia and the South Sandwich Islands",
          "Tonga",
          "Tuvalu"
         ]
        },
        {
         "name": "OXCGRT",
         "orientation": "h",
         "type": "bar",
         "x": [
          6255,
          548,
          397,
          252,
          211,
          193,
          183,
          182,
          182,
          176,
          171,
          170,
          166,
          165,
          165,
          164,
          153,
          150,
          150,
          150,
          146,
          146,
          144,
          144,
          142,
          141,
          141,
          141,
          141,
          140,
          138,
          137,
          137,
          136,
          135,
          135,
          134,
          133,
          133,
          131,
          131,
          130,
          129,
          128,
          127,
          127,
          127,
          126,
          126,
          125,
          124,
          123,
          123,
          122,
          121,
          121,
          121,
          121,
          119,
          119,
          118,
          118,
          117,
          117,
          116,
          116,
          115,
          115,
          114,
          114,
          114,
          113,
          113,
          111,
          109,
          108,
          108,
          108,
          108,
          108,
          107,
          106,
          106,
          106,
          106,
          105,
          104,
          104,
          104,
          103,
          103,
          103,
          103,
          102,
          102,
          102,
          101,
          101,
          101,
          101,
          98,
          98,
          98,
          95,
          94,
          94,
          93,
          93,
          92,
          91,
          91,
          91,
          90,
          89,
          88,
          88,
          88,
          87,
          87,
          87,
          87,
          87,
          86,
          84,
          84,
          84,
          83,
          83,
          82,
          81,
          81,
          81,
          79,
          79,
          78,
          77,
          76,
          75,
          75,
          75,
          75,
          75,
          74,
          74,
          71,
          71,
          71,
          71,
          70,
          70,
          65,
          65,
          64,
          64,
          64,
          63,
          62,
          60,
          59,
          59,
          56,
          56,
          54,
          50,
          48,
          48,
          47,
          47,
          46,
          44,
          42,
          36,
          34,
          33,
          32,
          30,
          30,
          27,
          21,
          19,
          3,
          null,
          null,
          null,
          null,
          null,
          null,
          null,
          null,
          null,
          null,
          null,
          null,
          null,
          null,
          null,
          null,
          null,
          null,
          null,
          null,
          null,
          null,
          null,
          null,
          null,
          null,
          null,
          null,
          null,
          null,
          null,
          null,
          null,
          null,
          null,
          null,
          null,
          null,
          null,
          null,
          null,
          null,
          null,
          null
         ],
         "y": [
          "United States Of America",
          "United Kingdom Of Great Britain And Northern Ireland",
          "China",
          "Israel",
          "Russian Federation",
          "Brazil",
          "Madagascar",
          "Serbia",
          "Canada",
          "Ireland",
          "Viet Nam",
          "India",
          "Uganda",
          "Australia",
          "Botswana",
          "Bulgaria",
          "Turkey",
          "Belgium",
          "Belize",
          "Sudan",
          "Republic Of Korea",
          "Spain",
          "Georgia",
          "Cote D Ivoire",
          "Bolivia, Plurinational State Of",
          "Austria",
          "Argentina",
          "Greece",
          "Germany",
          "Puerto Rico",
          "Paraguay",
          "Kazakhstan",
          "Guyana",
          "Nigeria",
          "Jamaica",
          "Iran, Islamic Republic Of",
          "Italy",
          "Japan",
          "France",
          "Pakistan",
          "Sri Lanka",
          "Colombia",
          "Philippines",
          "Mongolia",
          "Bahrain",
          "Nepal",
          "Kenya",
          "Trinidad And Tobago",
          "South Africa",
          "Gambia",
          "Honduras",
          "Chile",
          "Papua New Guinea",
          "Cabo Verde",
          "Portugal",
          "Ukraine",
          "Angola",
          "Czech Republic",
          "Singapore",
          "Peru",
          "Albania",
          "Azerbaijan",
          "Slovakia",
          "Panama",
          "Thailand",
          "Rwanda",
          "Iraq",
          "Bangladesh",
          "Kyrgyzstan",
          "Costa Rica",
          "Switzerland",
          "Guatemala",
          "Cuba",
          "Barbados",
          "Malawi",
          "United Arab Emirates",
          "Malaysia",
          "Indonesia",
          "South Sudan",
          "Democratic Republic Of The Congo",
          "Libya",
          "Uzbekistan",
          "Sierra Leone",
          "Lithuania",
          "Chad",
          "Netherlands",
          "Bosnia And Herzegovina",
          "Oman",
          "Guam",
          "Bermuda",
          "Central African Republic",
          "New Zealand",
          "Luxembourg",
          "Namibia",
          "Eswatini",
          "Zambia",
          "Zimbabwe",
          "Hungary",
          "Croatia",
          "El Salvador",
          "Denmark",
          "Slovenia",
          "Ecuador",
          "Syrian Arab Republic",
          "Ethiopia",
          "Myanmar",
          "Sweden",
          "United States Virgin Islands",
          "Venezuela, Bolivarian Republic Of",
          "Ghana",
          "Egypt",
          "Norway",
          "Djibouti",
          "Dominican Republic",
          "Haiti",
          "Tajikistan",
          "Eritrea",
          "Tunisia",
          "San Marino",
          "Kuwait",
          "Cyprus",
          "Lesotho",
          "Bhutan",
          "Liberia",
          "Mozambique",
          "Jordan",
          "Afghanistan",
          "Timor-Leste",
          "Suriname",
          "Estonia",
          "Iceland",
          "Finland",
          "Mexico",
          "Aruba",
          "Lao People's Democratic Republic",
          "Seychelles",
          "Dominica",
          "Fiji",
          "Guinea",
          "Niger",
          "Romania",
          "Latvia",
          "Algeria",
          "Congo",
          "Mauritius",
          "Morocco",
          "Saudi Arabia",
          "Gabon",
          "Uruguay",
          "Lebanon",
          "Togo",
          "Cambodia",
          "Republic Of Moldova",
          "Qatar",
          "Greenland",
          "Burkina Faso",
          "Benin",
          "Mali",
          "Senegal",
          "Poland",
          "Mauritania",
          "Andorra",
          "Somalia",
          "Burundi",
          "Turkmenistan",
          "United Republic Of Tanzania",
          "British Virgin Islands",
          "Cameroon",
          "Brunei Darussalam",
          "Turks And Caicos Islands",
          "Vanuatu",
          "Solomon Islands",
          "Anguilla",
          "Yemen",
          "Gibraltar",
          "Montserrat",
          "Falkland Islands (Malvinas)",
          "Cayman Islands",
          "Nicaragua",
          "Belarus",
          "Pitcairn Islands",
          "American Samoa",
          "Antigua And Barbuda",
          "Armenia",
          "Bahamas",
          "Bonaire, Sint Eustatius And Saba",
          "Comoros",
          "Cook Islands",
          "Curacao",
          "Democratic People's Republic Of Korea",
          "Equatorial Guinea",
          "French Guiana",
          "French Polynesia",
          "Grenada",
          "Guadeloupe",
          "Guernsey",
          "Guinea-Bissau",
          "Isle Of Man",
          "Jersey",
          "Kiribati",
          "Liechtenstein",
          "Maldives",
          "Malta",
          "Marshall Islands",
          "Micronesia, Federated States Of",
          "Monaco",
          "Montenegro",
          "Nauru",
          "New Caledonia",
          "Niue",
          "North Macedonia",
          "Northern Mariana Islands, Commonwealth Of The",
          "Palau",
          "Reunion",
          "Saint Barthelemy",
          "Saint Kitts And Nevis",
          "Saint Lucia",
          "Saint Martin",
          "Saint Vincent And The Grenadines",
          "Samoa",
          "Sao Tome And Principe",
          "Sint Maarten",
          "South Georgia and the South Sandwich Islands",
          "Tonga",
          "Tuvalu"
         ]
        }
       ],
       "layout": {
        "barmode": "stack",
        "height": 1800,
        "paper_bgcolor": "rgba(0,0,0,0)",
        "plot_bgcolor": "rgba(0,0,0,0)",
        "template": {
         "data": {
          "bar": [
           {
            "error_x": {
             "color": "#2a3f5f"
            },
            "error_y": {
             "color": "#2a3f5f"
            },
            "marker": {
             "line": {
              "color": "#E5ECF6",
              "width": 0.5
             }
            },
            "type": "bar"
           }
          ],
          "barpolar": [
           {
            "marker": {
             "line": {
              "color": "#E5ECF6",
              "width": 0.5
             }
            },
            "type": "barpolar"
           }
          ],
          "carpet": [
           {
            "aaxis": {
             "endlinecolor": "#2a3f5f",
             "gridcolor": "white",
             "linecolor": "white",
             "minorgridcolor": "white",
             "startlinecolor": "#2a3f5f"
            },
            "baxis": {
             "endlinecolor": "#2a3f5f",
             "gridcolor": "white",
             "linecolor": "white",
             "minorgridcolor": "white",
             "startlinecolor": "#2a3f5f"
            },
            "type": "carpet"
           }
          ],
          "choropleth": [
           {
            "colorbar": {
             "outlinewidth": 0,
             "ticks": ""
            },
            "type": "choropleth"
           }
          ],
          "contour": [
           {
            "colorbar": {
             "outlinewidth": 0,
             "ticks": ""
            },
            "colorscale": [
             [
              0,
              "#0d0887"
             ],
             [
              0.1111111111111111,
              "#46039f"
             ],
             [
              0.2222222222222222,
              "#7201a8"
             ],
             [
              0.3333333333333333,
              "#9c179e"
             ],
             [
              0.4444444444444444,
              "#bd3786"
             ],
             [
              0.5555555555555556,
              "#d8576b"
             ],
             [
              0.6666666666666666,
              "#ed7953"
             ],
             [
              0.7777777777777778,
              "#fb9f3a"
             ],
             [
              0.8888888888888888,
              "#fdca26"
             ],
             [
              1,
              "#f0f921"
             ]
            ],
            "type": "contour"
           }
          ],
          "contourcarpet": [
           {
            "colorbar": {
             "outlinewidth": 0,
             "ticks": ""
            },
            "type": "contourcarpet"
           }
          ],
          "heatmap": [
           {
            "colorbar": {
             "outlinewidth": 0,
             "ticks": ""
            },
            "colorscale": [
             [
              0,
              "#0d0887"
             ],
             [
              0.1111111111111111,
              "#46039f"
             ],
             [
              0.2222222222222222,
              "#7201a8"
             ],
             [
              0.3333333333333333,
              "#9c179e"
             ],
             [
              0.4444444444444444,
              "#bd3786"
             ],
             [
              0.5555555555555556,
              "#d8576b"
             ],
             [
              0.6666666666666666,
              "#ed7953"
             ],
             [
              0.7777777777777778,
              "#fb9f3a"
             ],
             [
              0.8888888888888888,
              "#fdca26"
             ],
             [
              1,
              "#f0f921"
             ]
            ],
            "type": "heatmap"
           }
          ],
          "heatmapgl": [
           {
            "colorbar": {
             "outlinewidth": 0,
             "ticks": ""
            },
            "colorscale": [
             [
              0,
              "#0d0887"
             ],
             [
              0.1111111111111111,
              "#46039f"
             ],
             [
              0.2222222222222222,
              "#7201a8"
             ],
             [
              0.3333333333333333,
              "#9c179e"
             ],
             [
              0.4444444444444444,
              "#bd3786"
             ],
             [
              0.5555555555555556,
              "#d8576b"
             ],
             [
              0.6666666666666666,
              "#ed7953"
             ],
             [
              0.7777777777777778,
              "#fb9f3a"
             ],
             [
              0.8888888888888888,
              "#fdca26"
             ],
             [
              1,
              "#f0f921"
             ]
            ],
            "type": "heatmapgl"
           }
          ],
          "histogram": [
           {
            "marker": {
             "colorbar": {
              "outlinewidth": 0,
              "ticks": ""
             }
            },
            "type": "histogram"
           }
          ],
          "histogram2d": [
           {
            "colorbar": {
             "outlinewidth": 0,
             "ticks": ""
            },
            "colorscale": [
             [
              0,
              "#0d0887"
             ],
             [
              0.1111111111111111,
              "#46039f"
             ],
             [
              0.2222222222222222,
              "#7201a8"
             ],
             [
              0.3333333333333333,
              "#9c179e"
             ],
             [
              0.4444444444444444,
              "#bd3786"
             ],
             [
              0.5555555555555556,
              "#d8576b"
             ],
             [
              0.6666666666666666,
              "#ed7953"
             ],
             [
              0.7777777777777778,
              "#fb9f3a"
             ],
             [
              0.8888888888888888,
              "#fdca26"
             ],
             [
              1,
              "#f0f921"
             ]
            ],
            "type": "histogram2d"
           }
          ],
          "histogram2dcontour": [
           {
            "colorbar": {
             "outlinewidth": 0,
             "ticks": ""
            },
            "colorscale": [
             [
              0,
              "#0d0887"
             ],
             [
              0.1111111111111111,
              "#46039f"
             ],
             [
              0.2222222222222222,
              "#7201a8"
             ],
             [
              0.3333333333333333,
              "#9c179e"
             ],
             [
              0.4444444444444444,
              "#bd3786"
             ],
             [
              0.5555555555555556,
              "#d8576b"
             ],
             [
              0.6666666666666666,
              "#ed7953"
             ],
             [
              0.7777777777777778,
              "#fb9f3a"
             ],
             [
              0.8888888888888888,
              "#fdca26"
             ],
             [
              1,
              "#f0f921"
             ]
            ],
            "type": "histogram2dcontour"
           }
          ],
          "mesh3d": [
           {
            "colorbar": {
             "outlinewidth": 0,
             "ticks": ""
            },
            "type": "mesh3d"
           }
          ],
          "parcoords": [
           {
            "line": {
             "colorbar": {
              "outlinewidth": 0,
              "ticks": ""
             }
            },
            "type": "parcoords"
           }
          ],
          "pie": [
           {
            "automargin": true,
            "type": "pie"
           }
          ],
          "scatter": [
           {
            "marker": {
             "colorbar": {
              "outlinewidth": 0,
              "ticks": ""
             }
            },
            "type": "scatter"
           }
          ],
          "scatter3d": [
           {
            "line": {
             "colorbar": {
              "outlinewidth": 0,
              "ticks": ""
             }
            },
            "marker": {
             "colorbar": {
              "outlinewidth": 0,
              "ticks": ""
             }
            },
            "type": "scatter3d"
           }
          ],
          "scattercarpet": [
           {
            "marker": {
             "colorbar": {
              "outlinewidth": 0,
              "ticks": ""
             }
            },
            "type": "scattercarpet"
           }
          ],
          "scattergeo": [
           {
            "marker": {
             "colorbar": {
              "outlinewidth": 0,
              "ticks": ""
             }
            },
            "type": "scattergeo"
           }
          ],
          "scattergl": [
           {
            "marker": {
             "colorbar": {
              "outlinewidth": 0,
              "ticks": ""
             }
            },
            "type": "scattergl"
           }
          ],
          "scattermapbox": [
           {
            "marker": {
             "colorbar": {
              "outlinewidth": 0,
              "ticks": ""
             }
            },
            "type": "scattermapbox"
           }
          ],
          "scatterpolar": [
           {
            "marker": {
             "colorbar": {
              "outlinewidth": 0,
              "ticks": ""
             }
            },
            "type": "scatterpolar"
           }
          ],
          "scatterpolargl": [
           {
            "marker": {
             "colorbar": {
              "outlinewidth": 0,
              "ticks": ""
             }
            },
            "type": "scatterpolargl"
           }
          ],
          "scatterternary": [
           {
            "marker": {
             "colorbar": {
              "outlinewidth": 0,
              "ticks": ""
             }
            },
            "type": "scatterternary"
           }
          ],
          "surface": [
           {
            "colorbar": {
             "outlinewidth": 0,
             "ticks": ""
            },
            "colorscale": [
             [
              0,
              "#0d0887"
             ],
             [
              0.1111111111111111,
              "#46039f"
             ],
             [
              0.2222222222222222,
              "#7201a8"
             ],
             [
              0.3333333333333333,
              "#9c179e"
             ],
             [
              0.4444444444444444,
              "#bd3786"
             ],
             [
              0.5555555555555556,
              "#d8576b"
             ],
             [
              0.6666666666666666,
              "#ed7953"
             ],
             [
              0.7777777777777778,
              "#fb9f3a"
             ],
             [
              0.8888888888888888,
              "#fdca26"
             ],
             [
              1,
              "#f0f921"
             ]
            ],
            "type": "surface"
           }
          ],
          "table": [
           {
            "cells": {
             "fill": {
              "color": "#EBF0F8"
             },
             "line": {
              "color": "white"
             }
            },
            "header": {
             "fill": {
              "color": "#C8D4E3"
             },
             "line": {
              "color": "white"
             }
            },
            "type": "table"
           }
          ]
         },
         "layout": {
          "annotationdefaults": {
           "arrowcolor": "#2a3f5f",
           "arrowhead": 0,
           "arrowwidth": 1
          },
          "coloraxis": {
           "colorbar": {
            "outlinewidth": 0,
            "ticks": ""
           }
          },
          "colorscale": {
           "diverging": [
            [
             0,
             "#8e0152"
            ],
            [
             0.1,
             "#c51b7d"
            ],
            [
             0.2,
             "#de77ae"
            ],
            [
             0.3,
             "#f1b6da"
            ],
            [
             0.4,
             "#fde0ef"
            ],
            [
             0.5,
             "#f7f7f7"
            ],
            [
             0.6,
             "#e6f5d0"
            ],
            [
             0.7,
             "#b8e186"
            ],
            [
             0.8,
             "#7fbc41"
            ],
            [
             0.9,
             "#4d9221"
            ],
            [
             1,
             "#276419"
            ]
           ],
           "sequential": [
            [
             0,
             "#0d0887"
            ],
            [
             0.1111111111111111,
             "#46039f"
            ],
            [
             0.2222222222222222,
             "#7201a8"
            ],
            [
             0.3333333333333333,
             "#9c179e"
            ],
            [
             0.4444444444444444,
             "#bd3786"
            ],
            [
             0.5555555555555556,
             "#d8576b"
            ],
            [
             0.6666666666666666,
             "#ed7953"
            ],
            [
             0.7777777777777778,
             "#fb9f3a"
            ],
            [
             0.8888888888888888,
             "#fdca26"
            ],
            [
             1,
             "#f0f921"
            ]
           ],
           "sequentialminus": [
            [
             0,
             "#0d0887"
            ],
            [
             0.1111111111111111,
             "#46039f"
            ],
            [
             0.2222222222222222,
             "#7201a8"
            ],
            [
             0.3333333333333333,
             "#9c179e"
            ],
            [
             0.4444444444444444,
             "#bd3786"
            ],
            [
             0.5555555555555556,
             "#d8576b"
            ],
            [
             0.6666666666666666,
             "#ed7953"
            ],
            [
             0.7777777777777778,
             "#fb9f3a"
            ],
            [
             0.8888888888888888,
             "#fdca26"
            ],
            [
             1,
             "#f0f921"
            ]
           ]
          },
          "colorway": [
           "#636efa",
           "#EF553B",
           "#00cc96",
           "#ab63fa",
           "#FFA15A",
           "#19d3f3",
           "#FF6692",
           "#B6E880",
           "#FF97FF",
           "#FECB52"
          ],
          "font": {
           "color": "#2a3f5f"
          },
          "geo": {
           "bgcolor": "white",
           "lakecolor": "white",
           "landcolor": "#E5ECF6",
           "showlakes": true,
           "showland": true,
           "subunitcolor": "white"
          },
          "hoverlabel": {
           "align": "left"
          },
          "hovermode": "closest",
          "mapbox": {
           "style": "light"
          },
          "paper_bgcolor": "white",
          "plot_bgcolor": "#E5ECF6",
          "polar": {
           "angularaxis": {
            "gridcolor": "white",
            "linecolor": "white",
            "ticks": ""
           },
           "bgcolor": "#E5ECF6",
           "radialaxis": {
            "gridcolor": "white",
            "linecolor": "white",
            "ticks": ""
           }
          },
          "scene": {
           "xaxis": {
            "backgroundcolor": "#E5ECF6",
            "gridcolor": "white",
            "gridwidth": 2,
            "linecolor": "white",
            "showbackground": true,
            "ticks": "",
            "zerolinecolor": "white"
           },
           "yaxis": {
            "backgroundcolor": "#E5ECF6",
            "gridcolor": "white",
            "gridwidth": 2,
            "linecolor": "white",
            "showbackground": true,
            "ticks": "",
            "zerolinecolor": "white"
           },
           "zaxis": {
            "backgroundcolor": "#E5ECF6",
            "gridcolor": "white",
            "gridwidth": 2,
            "linecolor": "white",
            "showbackground": true,
            "ticks": "",
            "zerolinecolor": "white"
           }
          },
          "shapedefaults": {
           "line": {
            "color": "#2a3f5f"
           }
          },
          "ternary": {
           "aaxis": {
            "gridcolor": "white",
            "linecolor": "white",
            "ticks": ""
           },
           "baxis": {
            "gridcolor": "white",
            "linecolor": "white",
            "ticks": ""
           },
           "bgcolor": "#E5ECF6",
           "caxis": {
            "gridcolor": "white",
            "linecolor": "white",
            "ticks": ""
           }
          },
          "title": {
           "x": 0.05
          },
          "xaxis": {
           "automargin": true,
           "gridcolor": "white",
           "linecolor": "white",
           "ticks": "",
           "title": {
            "standoff": 15
           },
           "zerolinecolor": "white",
           "zerolinewidth": 2
          },
          "yaxis": {
           "automargin": true,
           "gridcolor": "white",
           "linecolor": "white",
           "ticks": "",
           "title": {
            "standoff": 15
           },
           "zerolinecolor": "white",
           "zerolinewidth": 2
          }
         }
        },
        "title": {
         "text": "Records per country"
        },
        "updatemenus": [
         {
          "buttons": [
           {
            "args": [
             {
              "visible": [
               true,
               true,
               true,
               true
              ]
             },
             {
              "showlegend": true,
              "title": "All"
             }
            ],
            "label": "All",
            "method": "update"
           },
           {
            "args": [
             {
              "visible": [
               true,
               false,
               false,
               false
              ]
             },
             {
              "showlegend": true,
              "title": "OXCGRT"
             }
            ],
            "label": "ACAPS",
            "method": "update"
           },
           {
            "args": [
             {
              "visible": [
               false,
               true,
               false,
               false
              ]
             },
             {
              "showlegend": true,
              "title": "CDC_ITF"
             }
            ],
            "label": "CDC_ITF",
            "method": "update"
           },
           {
            "args": [
             {
              "visible": [
               false,
               false,
               true,
               false
              ]
             },
             {
              "showlegend": true,
              "title": "JH_HIT"
             }
            ],
            "label": "JH_HIT",
            "method": "update"
           },
           {
            "args": [
             {
              "visible": [
               false,
               false,
               false,
               true
              ]
             },
             {
              "showlegend": true,
              "title": "OXCGRT"
             }
            ],
            "label": "OXCGRT",
            "method": "update"
           }
          ],
          "direction": "down",
          "pad": {
           "r": 10,
           "t": 10
          },
          "showactive": true,
          "x": 1,
          "xanchor": "right",
          "y": 1.052,
          "yanchor": "top"
         }
        ],
        "yaxis": {
         "tickfont": {
          "size": 6
         }
        }
       }
      },
      "text/html": [
       "<div>\n",
       "        \n",
       "        \n",
       "            <div id=\"edb3861b-5ebd-4a0e-9220-2e32732156f9\" class=\"plotly-graph-div\" style=\"height:1800px; width:100%;\"></div>\n",
       "            <script type=\"text/javascript\">\n",
       "                require([\"plotly\"], function(Plotly) {\n",
       "                    window.PLOTLYENV=window.PLOTLYENV || {};\n",
       "                    \n",
       "                if (document.getElementById(\"edb3861b-5ebd-4a0e-9220-2e32732156f9\")) {\n",
       "                    Plotly.newPlot(\n",
       "                        'edb3861b-5ebd-4a0e-9220-2e32732156f9',\n",
       "                        [{\"name\": \"ACAPS\", \"orientation\": \"h\", \"type\": \"bar\", \"x\": [340.0, 71.0, 318.0, 204.0, 71.0, 69.0, 101.0, 64.0, 214.0, 91.0, 96.0, 134.0, 60.0, 408.0, 107.0, 131.0, 67.0, 205.0, 133.0, 104.0, 132.0, 205.0, 90.0, 76.0, 92.0, 216.0, 143.0, 152.0, 173.0, null, 93.0, 88.0, 73.0, 78.0, 51.0, 53.0, 173.0, 92.0, 155.0, 65.0, 296.0, 108.0, 395.0, 60.0, 45.0, 147.0, 101.0, 81.0, 95.0, 35.0, 98.0, 122.0, 129.0, 109.0, 262.0, 90.0, 229.0, 190.0, 237.0, 107.0, 73.0, 89.0, 169.0, 139.0, 146.0, 70.0, 135.0, 48.0, 61.0, 130.0, 217.0, 111.0, 71.0, 202.0, 56.0, 62.0, 282.0, 49.0, 40.0, 47.0, 83.0, 30.0, 40.0, 144.0, 59.0, 74.0, 164.0, 76.0, null, null, 31.0, 222.0, 116.0, 86.0, 77.0, 36.0, 34.0, 165.0, 91.0, 111.0, 210.0, 74.0, 104.0, 45.0, 49.0, 64.0, 93.0, null, 85.0, 75.0, 54.0, 134.0, 62.0, 125.0, 62.0, 34.0, 27.0, 97.0, 25.0, 116.0, 97.0, 51.0, 78.0, 60.0, 124.0, 91.0, 58.0, 49.0, 96.0, 189.0, 154.0, 153.0, 121.0, null, 49.0, 65.0, 109.0, 127.0, 32.0, 43.0, 64.0, 157.0, 76.0, 39.0, 37.0, 123.0, 83.0, 64.0, 92.0, 80.0, 34.0, 25.0, 50.0, 42.0, null, 34.0, 66.0, 37.0, 42.0, 142.0, 30.0, null, 19.0, 14.0, 27.0, 23.0, null, 42.0, 102.0, null, 78.0, 75.0, null, 41.0, null, null, null, 2.0, 25.0, 44.0, null, null, 83.0, 69.0, 137.0, null, 35.0, null, null, 20.0, 149.0, null, null, 106.0, null, null, 73.0, null, null, 22.0, 75.0, 53.0, 97.0, 62.0, 24.0, null, 87.0, 47.0, null, null, 51.0, null, 55.0, null, null, 134.0, 107.0, null, 51.0, 85.0, 75.0, null, null, 82.0, 15.0], \"y\": [\"United States Of America\", \"United Kingdom Of Great Britain And Northern Ireland\", \"China\", \"Israel\", \"Russian Federation\", \"Brazil\", \"Madagascar\", \"Serbia\", \"Canada\", \"Ireland\", \"Viet Nam\", \"India\", \"Uganda\", \"Australia\", \"Botswana\", \"Bulgaria\", \"Turkey\", \"Belgium\", \"Belize\", \"Sudan\", \"Republic Of Korea\", \"Spain\", \"Georgia\", \"Cote D Ivoire\", \"Bolivia, Plurinational State Of\", \"Austria\", \"Argentina\", \"Greece\", \"Germany\", \"Puerto Rico\", \"Paraguay\", \"Kazakhstan\", \"Guyana\", \"Nigeria\", \"Jamaica\", \"Iran, Islamic Republic Of\", \"Italy\", \"Japan\", \"France\", \"Pakistan\", \"Sri Lanka\", \"Colombia\", \"Philippines\", \"Mongolia\", \"Bahrain\", \"Nepal\", \"Kenya\", \"Trinidad And Tobago\", \"South Africa\", \"Gambia\", \"Honduras\", \"Chile\", \"Papua New Guinea\", \"Cabo Verde\", \"Portugal\", \"Ukraine\", \"Angola\", \"Czech Republic\", \"Singapore\", \"Peru\", \"Albania\", \"Azerbaijan\", \"Slovakia\", \"Panama\", \"Thailand\", \"Rwanda\", \"Iraq\", \"Bangladesh\", \"Kyrgyzstan\", \"Costa Rica\", \"Switzerland\", \"Guatemala\", \"Cuba\", \"Barbados\", \"Malawi\", \"United Arab Emirates\", \"Malaysia\", \"Indonesia\", \"South Sudan\", \"Democratic Republic Of The Congo\", \"Libya\", \"Uzbekistan\", \"Sierra Leone\", \"Lithuania\", \"Chad\", \"Netherlands\", \"Bosnia And Herzegovina\", \"Oman\", \"Guam\", \"Bermuda\", \"Central African Republic\", \"New Zealand\", \"Luxembourg\", \"Namibia\", \"Eswatini\", \"Zambia\", \"Zimbabwe\", \"Hungary\", \"Croatia\", \"El Salvador\", \"Denmark\", \"Slovenia\", \"Ecuador\", \"Syrian Arab Republic\", \"Ethiopia\", \"Myanmar\", \"Sweden\", \"United States Virgin Islands\", \"Venezuela, Bolivarian Republic Of\", \"Ghana\", \"Egypt\", \"Norway\", \"Djibouti\", \"Dominican Republic\", \"Haiti\", \"Tajikistan\", \"Eritrea\", \"Tunisia\", \"San Marino\", \"Kuwait\", \"Cyprus\", \"Lesotho\", \"Bhutan\", \"Liberia\", \"Mozambique\", \"Jordan\", \"Afghanistan\", \"Timor-Leste\", \"Suriname\", \"Estonia\", \"Iceland\", \"Finland\", \"Mexico\", \"Aruba\", \"Lao People's Democratic Republic\", \"Seychelles\", \"Dominica\", \"Fiji\", \"Guinea\", \"Niger\", \"Romania\", \"Latvia\", \"Algeria\", \"Congo\", \"Mauritius\", \"Morocco\", \"Saudi Arabia\", \"Gabon\", \"Uruguay\", \"Lebanon\", \"Togo\", \"Cambodia\", \"Republic Of Moldova\", \"Qatar\", \"Greenland\", \"Burkina Faso\", \"Benin\", \"Mali\", \"Senegal\", \"Poland\", \"Mauritania\", \"Andorra\", \"Somalia\", \"Burundi\", \"Turkmenistan\", \"United Republic Of Tanzania\", \"British Virgin Islands\", \"Cameroon\", \"Brunei Darussalam\", \"Turks And Caicos Islands\", \"Vanuatu\", \"Solomon Islands\", \"Anguilla\", \"Yemen\", \"Gibraltar\", \"Montserrat\", \"Falkland Islands (Malvinas)\", \"Cayman Islands\", \"Nicaragua\", \"Belarus\", \"Pitcairn Islands\", \"American Samoa\", \"Antigua And Barbuda\", \"Armenia\", \"Bahamas\", \"Bonaire, Sint Eustatius And Saba\", \"Comoros\", \"Cook Islands\", \"Curacao\", \"Democratic People's Republic Of Korea\", \"Equatorial Guinea\", \"French Guiana\", \"French Polynesia\", \"Grenada\", \"Guadeloupe\", \"Guernsey\", \"Guinea-Bissau\", \"Isle Of Man\", \"Jersey\", \"Kiribati\", \"Liechtenstein\", \"Maldives\", \"Malta\", \"Marshall Islands\", \"Micronesia, Federated States Of\", \"Monaco\", \"Montenegro\", \"Nauru\", \"New Caledonia\", \"Niue\", \"North Macedonia\", \"Northern Mariana Islands, Commonwealth Of The\", \"Palau\", \"Reunion\", \"Saint Barthelemy\", \"Saint Kitts And Nevis\", \"Saint Lucia\", \"Saint Martin\", \"Saint Vincent And The Grenadines\", \"Samoa\", \"Sao Tome And Principe\", \"Sint Maarten\", \"South Georgia and the South Sandwich Islands\", \"Tonga\", \"Tuvalu\"]}, {\"name\": \"CDC_ITF\", \"orientation\": \"h\", \"type\": \"bar\", \"x\": [41.0, 104.0, 231.0, 111.0, 66.0, 51.0, 29.0, 59.0, 88.0, 55.0, 76.0, 103.0, 34.0, 108.0, 42.0, 30.0, 57.0, 53.0, 29.0, 33.0, 97.0, 75.0, 33.0, 36.0, 29.0, 53.0, 50.0, 60.0, 65.0, 12.0, 39.0, 60.0, 14.0, 57.0, 65.0, 66.0, 51.0, 82.0, 83.0, 60.0, 49.0, 39.0, 58.0, 30.0, 38.0, 48.0, 60.0, 29.0, 48.0, 24.0, 38.0, 42.0, 31.0, 23.0, 57.0, 63.0, 33.0, 49.0, 47.0, 32.0, 47.0, 44.0, 35.0, 31.0, 74.0, 44.0, 94.0, 50.0, 35.0, 36.0, 45.0, 41.0, 21.0, 34.0, 17.0, 84.0, 67.0, 38.0, 20.0, 30.0, 38.0, 44.0, 25.0, 36.0, 23.0, 51.0, 27.0, 35.0, 14.0, null, 14.0, 41.0, 33.0, 65.0, 48.0, 27.0, 23.0, 65.0, 30.0, 27.0, 40.0, 51.0, 18.0, 35.0, 22.0, 52.0, 29.0, 9.0, 24.0, 39.0, 49.0, 50.0, 25.0, 22.0, 22.0, 22.0, 20.0, 61.0, 8.0, 42.0, 36.0, 14.0, 19.0, 31.0, 26.0, 96.0, 33.0, 22.0, 31.0, 38.0, 39.0, 41.0, 47.0, 30.0, 31.0, 30.0, 18.0, 34.0, 17.0, 20.0, 44.0, 27.0, 38.0, 26.0, 24.0, 50.0, 74.0, 24.0, 22.0, 68.0, 20.0, 25.0, 20.0, 50.0, 17.0, 25.0, 25.0, 20.0, 30.0, 68.0, 16.0, 13.0, 13.0, 16.0, 20.0, 20.0, 21.0, 18.0, 24.0, 12.0, 17.0, 17.0, null, 23.0, 1.0, 9.0, null, null, 11.0, 11.0, null, null, 21.0, 48.0, 36.0, 8.0, 18.0, 13.0, 25.0, 15.0, 28.0, 5.0, 14.0, 39.0, 6.0, 18.0, 21.0, 9.0, 5.0, 10.0, 18.0, 28.0, 21.0, 17.0, 9.0, 29.0, 34.0, 7.0, 12.0, 9.0, 23.0, 1.0, 13.0, 1.0, 1.0, 20.0, 34.0, 9.0, 18.0, 25.0, 22.0, 1.0, null, 25.0, 9.0], \"y\": [\"United States Of America\", \"United Kingdom Of Great Britain And Northern Ireland\", \"China\", \"Israel\", \"Russian Federation\", \"Brazil\", \"Madagascar\", \"Serbia\", \"Canada\", \"Ireland\", \"Viet Nam\", \"India\", \"Uganda\", \"Australia\", \"Botswana\", \"Bulgaria\", \"Turkey\", \"Belgium\", \"Belize\", \"Sudan\", \"Republic Of Korea\", \"Spain\", \"Georgia\", \"Cote D Ivoire\", \"Bolivia, Plurinational State Of\", \"Austria\", \"Argentina\", \"Greece\", \"Germany\", \"Puerto Rico\", \"Paraguay\", \"Kazakhstan\", \"Guyana\", \"Nigeria\", \"Jamaica\", \"Iran, Islamic Republic Of\", \"Italy\", \"Japan\", \"France\", \"Pakistan\", \"Sri Lanka\", \"Colombia\", \"Philippines\", \"Mongolia\", \"Bahrain\", \"Nepal\", \"Kenya\", \"Trinidad And Tobago\", \"South Africa\", \"Gambia\", \"Honduras\", \"Chile\", \"Papua New Guinea\", \"Cabo Verde\", \"Portugal\", \"Ukraine\", \"Angola\", \"Czech Republic\", \"Singapore\", \"Peru\", \"Albania\", \"Azerbaijan\", \"Slovakia\", \"Panama\", \"Thailand\", \"Rwanda\", \"Iraq\", \"Bangladesh\", \"Kyrgyzstan\", \"Costa Rica\", \"Switzerland\", \"Guatemala\", \"Cuba\", \"Barbados\", \"Malawi\", \"United Arab Emirates\", \"Malaysia\", \"Indonesia\", \"South Sudan\", \"Democratic Republic Of The Congo\", \"Libya\", \"Uzbekistan\", \"Sierra Leone\", \"Lithuania\", \"Chad\", \"Netherlands\", \"Bosnia And Herzegovina\", \"Oman\", \"Guam\", \"Bermuda\", \"Central African Republic\", \"New Zealand\", \"Luxembourg\", \"Namibia\", \"Eswatini\", \"Zambia\", \"Zimbabwe\", \"Hungary\", \"Croatia\", \"El Salvador\", \"Denmark\", \"Slovenia\", \"Ecuador\", \"Syrian Arab Republic\", \"Ethiopia\", \"Myanmar\", \"Sweden\", \"United States Virgin Islands\", \"Venezuela, Bolivarian Republic Of\", \"Ghana\", \"Egypt\", \"Norway\", \"Djibouti\", \"Dominican Republic\", \"Haiti\", \"Tajikistan\", \"Eritrea\", \"Tunisia\", \"San Marino\", \"Kuwait\", \"Cyprus\", \"Lesotho\", \"Bhutan\", \"Liberia\", \"Mozambique\", \"Jordan\", \"Afghanistan\", \"Timor-Leste\", \"Suriname\", \"Estonia\", \"Iceland\", \"Finland\", \"Mexico\", \"Aruba\", \"Lao People's Democratic Republic\", \"Seychelles\", \"Dominica\", \"Fiji\", \"Guinea\", \"Niger\", \"Romania\", \"Latvia\", \"Algeria\", \"Congo\", \"Mauritius\", \"Morocco\", \"Saudi Arabia\", \"Gabon\", \"Uruguay\", \"Lebanon\", \"Togo\", \"Cambodia\", \"Republic Of Moldova\", \"Qatar\", \"Greenland\", \"Burkina Faso\", \"Benin\", \"Mali\", \"Senegal\", \"Poland\", \"Mauritania\", \"Andorra\", \"Somalia\", \"Burundi\", \"Turkmenistan\", \"United Republic Of Tanzania\", \"British Virgin Islands\", \"Cameroon\", \"Brunei Darussalam\", \"Turks And Caicos Islands\", \"Vanuatu\", \"Solomon Islands\", \"Anguilla\", \"Yemen\", \"Gibraltar\", \"Montserrat\", \"Falkland Islands (Malvinas)\", \"Cayman Islands\", \"Nicaragua\", \"Belarus\", \"Pitcairn Islands\", \"American Samoa\", \"Antigua And Barbuda\", \"Armenia\", \"Bahamas\", \"Bonaire, Sint Eustatius And Saba\", \"Comoros\", \"Cook Islands\", \"Curacao\", \"Democratic People's Republic Of Korea\", \"Equatorial Guinea\", \"French Guiana\", \"French Polynesia\", \"Grenada\", \"Guadeloupe\", \"Guernsey\", \"Guinea-Bissau\", \"Isle Of Man\", \"Jersey\", \"Kiribati\", \"Liechtenstein\", \"Maldives\", \"Malta\", \"Marshall Islands\", \"Micronesia, Federated States Of\", \"Monaco\", \"Montenegro\", \"Nauru\", \"New Caledonia\", \"Niue\", \"North Macedonia\", \"Northern Mariana Islands, Commonwealth Of The\", \"Palau\", \"Reunion\", \"Saint Barthelemy\", \"Saint Kitts And Nevis\", \"Saint Lucia\", \"Saint Martin\", \"Saint Vincent And The Grenadines\", \"Samoa\", \"Sao Tome And Principe\", \"Sint Maarten\", \"South Georgia and the South Sandwich Islands\", \"Tonga\", \"Tuvalu\"]}, {\"name\": \"JH_HIT\", \"orientation\": \"h\", \"type\": \"bar\", \"x\": [379.0, 30.0, 307.0, null, 103.0, 50.0, 25.0, null, 47.0, 3.0, null, 401.0, 21.0, 82.0, 21.0, 2.0, 132.0, null, 28.0, 26.0, 71.0, 21.0, null, 31.0, 97.0, null, 47.0, 18.0, 18.0, 11.0, 9.0, null, 8.0, null, 24.0, 3.0, 98.0, 61.0, 20.0, 26.0, 50.0, 23.0, null, null, 29.0, 8.0, 60.0, null, 19.0, 28.0, 1.0, 16.0, 57.0, null, null, 15.0, 17.0, 42.0, 25.0, 16.0, null, 9.0, null, null, 24.0, 14.0, 35.0, 16.0, null, null, 102.0, null, null, null, 19.0, null, 30.0, null, 10.0, 45.0, 59.0, 37.0, 1.0, null, 25.0, 35.0, null, 49.0, null, null, 17.0, 27.0, 39.0, 57.0, 17.0, 10.0, 11.0, null, 1.0, 24.0, 38.0, 48.0, 15.0, null, 3.0, 59.0, null, 18.0, 45.0, null, 8.0, 72.0, 7.0, 46.0, null, null, null, 40.0, null, null, null, 13.0, 3.0, 4.0, 40.0, null, 32.0, null, 7.0, null, null, null, 1.0, null, 51.0, null, null, null, 13.0, 12.0, 38.0, null, 16.0, null, 52.0, 57.0, 94.0, 44.0, 12.0, null, 9.0, 21.0, null, 6.0, 10.0, 8.0, 11.0, 11.0, 35.0, 25.0, 33.0, null, 6.0, 10.0, null, 22.0, null, 18.0, null, null, null, null, null, null, null, null, null, null, null, null, null, 14.0, null, null, 52.0, null, null, null, null, null, 23.0, 38.0, null, 9.0, null, 18.0, 23.0, 33.0, 24.0, null, 5.0, null, null, 29.0, null, 6.0, null, 18.0, null, null, null, 6.0, null, 19.0, null, null, null, null, 5.0, null, null, null, 1.0, 30.0, null], \"y\": [\"United States Of America\", \"United Kingdom Of Great Britain And Northern Ireland\", \"China\", \"Israel\", \"Russian Federation\", \"Brazil\", \"Madagascar\", \"Serbia\", \"Canada\", \"Ireland\", \"Viet Nam\", \"India\", \"Uganda\", \"Australia\", \"Botswana\", \"Bulgaria\", \"Turkey\", \"Belgium\", \"Belize\", \"Sudan\", \"Republic Of Korea\", \"Spain\", \"Georgia\", \"Cote D Ivoire\", \"Bolivia, Plurinational State Of\", \"Austria\", \"Argentina\", \"Greece\", \"Germany\", \"Puerto Rico\", \"Paraguay\", \"Kazakhstan\", \"Guyana\", \"Nigeria\", \"Jamaica\", \"Iran, Islamic Republic Of\", \"Italy\", \"Japan\", \"France\", \"Pakistan\", \"Sri Lanka\", \"Colombia\", \"Philippines\", \"Mongolia\", \"Bahrain\", \"Nepal\", \"Kenya\", \"Trinidad And Tobago\", \"South Africa\", \"Gambia\", \"Honduras\", \"Chile\", \"Papua New Guinea\", \"Cabo Verde\", \"Portugal\", \"Ukraine\", \"Angola\", \"Czech Republic\", \"Singapore\", \"Peru\", \"Albania\", \"Azerbaijan\", \"Slovakia\", \"Panama\", \"Thailand\", \"Rwanda\", \"Iraq\", \"Bangladesh\", \"Kyrgyzstan\", \"Costa Rica\", \"Switzerland\", \"Guatemala\", \"Cuba\", \"Barbados\", \"Malawi\", \"United Arab Emirates\", \"Malaysia\", \"Indonesia\", \"South Sudan\", \"Democratic Republic Of The Congo\", \"Libya\", \"Uzbekistan\", \"Sierra Leone\", \"Lithuania\", \"Chad\", \"Netherlands\", \"Bosnia And Herzegovina\", \"Oman\", \"Guam\", \"Bermuda\", \"Central African Republic\", \"New Zealand\", \"Luxembourg\", \"Namibia\", \"Eswatini\", \"Zambia\", \"Zimbabwe\", \"Hungary\", \"Croatia\", \"El Salvador\", \"Denmark\", \"Slovenia\", \"Ecuador\", \"Syrian Arab Republic\", \"Ethiopia\", \"Myanmar\", \"Sweden\", \"United States Virgin Islands\", \"Venezuela, Bolivarian Republic Of\", \"Ghana\", \"Egypt\", \"Norway\", \"Djibouti\", \"Dominican Republic\", \"Haiti\", \"Tajikistan\", \"Eritrea\", \"Tunisia\", \"San Marino\", \"Kuwait\", \"Cyprus\", \"Lesotho\", \"Bhutan\", \"Liberia\", \"Mozambique\", \"Jordan\", \"Afghanistan\", \"Timor-Leste\", \"Suriname\", \"Estonia\", \"Iceland\", \"Finland\", \"Mexico\", \"Aruba\", \"Lao People's Democratic Republic\", \"Seychelles\", \"Dominica\", \"Fiji\", \"Guinea\", \"Niger\", \"Romania\", \"Latvia\", \"Algeria\", \"Congo\", \"Mauritius\", \"Morocco\", \"Saudi Arabia\", \"Gabon\", \"Uruguay\", \"Lebanon\", \"Togo\", \"Cambodia\", \"Republic Of Moldova\", \"Qatar\", \"Greenland\", \"Burkina Faso\", \"Benin\", \"Mali\", \"Senegal\", \"Poland\", \"Mauritania\", \"Andorra\", \"Somalia\", \"Burundi\", \"Turkmenistan\", \"United Republic Of Tanzania\", \"British Virgin Islands\", \"Cameroon\", \"Brunei Darussalam\", \"Turks And Caicos Islands\", \"Vanuatu\", \"Solomon Islands\", \"Anguilla\", \"Yemen\", \"Gibraltar\", \"Montserrat\", \"Falkland Islands (Malvinas)\", \"Cayman Islands\", \"Nicaragua\", \"Belarus\", \"Pitcairn Islands\", \"American Samoa\", \"Antigua And Barbuda\", \"Armenia\", \"Bahamas\", \"Bonaire, Sint Eustatius And Saba\", \"Comoros\", \"Cook Islands\", \"Curacao\", \"Democratic People's Republic Of Korea\", \"Equatorial Guinea\", \"French Guiana\", \"French Polynesia\", \"Grenada\", \"Guadeloupe\", \"Guernsey\", \"Guinea-Bissau\", \"Isle Of Man\", \"Jersey\", \"Kiribati\", \"Liechtenstein\", \"Maldives\", \"Malta\", \"Marshall Islands\", \"Micronesia, Federated States Of\", \"Monaco\", \"Montenegro\", \"Nauru\", \"New Caledonia\", \"Niue\", \"North Macedonia\", \"Northern Mariana Islands, Commonwealth Of The\", \"Palau\", \"Reunion\", \"Saint Barthelemy\", \"Saint Kitts And Nevis\", \"Saint Lucia\", \"Saint Martin\", \"Saint Vincent And The Grenadines\", \"Samoa\", \"Sao Tome And Principe\", \"Sint Maarten\", \"South Georgia and the South Sandwich Islands\", \"Tonga\", \"Tuvalu\"]}, {\"name\": \"OXCGRT\", \"orientation\": \"h\", \"type\": \"bar\", \"x\": [6255.0, 548.0, 397.0, 252.0, 211.0, 193.0, 183.0, 182.0, 182.0, 176.0, 171.0, 170.0, 166.0, 165.0, 165.0, 164.0, 153.0, 150.0, 150.0, 150.0, 146.0, 146.0, 144.0, 144.0, 142.0, 141.0, 141.0, 141.0, 141.0, 140.0, 138.0, 137.0, 137.0, 136.0, 135.0, 135.0, 134.0, 133.0, 133.0, 131.0, 131.0, 130.0, 129.0, 128.0, 127.0, 127.0, 127.0, 126.0, 126.0, 125.0, 124.0, 123.0, 123.0, 122.0, 121.0, 121.0, 121.0, 121.0, 119.0, 119.0, 118.0, 118.0, 117.0, 117.0, 116.0, 116.0, 115.0, 115.0, 114.0, 114.0, 114.0, 113.0, 113.0, 111.0, 109.0, 108.0, 108.0, 108.0, 108.0, 108.0, 107.0, 106.0, 106.0, 106.0, 106.0, 105.0, 104.0, 104.0, 104.0, 103.0, 103.0, 103.0, 103.0, 102.0, 102.0, 102.0, 101.0, 101.0, 101.0, 101.0, 98.0, 98.0, 98.0, 95.0, 94.0, 94.0, 93.0, 93.0, 92.0, 91.0, 91.0, 91.0, 90.0, 89.0, 88.0, 88.0, 88.0, 87.0, 87.0, 87.0, 87.0, 87.0, 86.0, 84.0, 84.0, 84.0, 83.0, 83.0, 82.0, 81.0, 81.0, 81.0, 79.0, 79.0, 78.0, 77.0, 76.0, 75.0, 75.0, 75.0, 75.0, 75.0, 74.0, 74.0, 71.0, 71.0, 71.0, 71.0, 70.0, 70.0, 65.0, 65.0, 64.0, 64.0, 64.0, 63.0, 62.0, 60.0, 59.0, 59.0, 56.0, 56.0, 54.0, 50.0, 48.0, 48.0, 47.0, 47.0, 46.0, 44.0, 42.0, 36.0, 34.0, 33.0, 32.0, 30.0, 30.0, 27.0, 21.0, 19.0, 3.0, null, null, null, null, null, null, null, null, null, null, null, null, null, null, null, null, null, null, null, null, null, null, null, null, null, null, null, null, null, null, null, null, null, null, null, null, null, null, null, null, null, null, null, null], \"y\": [\"United States Of America\", \"United Kingdom Of Great Britain And Northern Ireland\", \"China\", \"Israel\", \"Russian Federation\", \"Brazil\", \"Madagascar\", \"Serbia\", \"Canada\", \"Ireland\", \"Viet Nam\", \"India\", \"Uganda\", \"Australia\", \"Botswana\", \"Bulgaria\", \"Turkey\", \"Belgium\", \"Belize\", \"Sudan\", \"Republic Of Korea\", \"Spain\", \"Georgia\", \"Cote D Ivoire\", \"Bolivia, Plurinational State Of\", \"Austria\", \"Argentina\", \"Greece\", \"Germany\", \"Puerto Rico\", \"Paraguay\", \"Kazakhstan\", \"Guyana\", \"Nigeria\", \"Jamaica\", \"Iran, Islamic Republic Of\", \"Italy\", \"Japan\", \"France\", \"Pakistan\", \"Sri Lanka\", \"Colombia\", \"Philippines\", \"Mongolia\", \"Bahrain\", \"Nepal\", \"Kenya\", \"Trinidad And Tobago\", \"South Africa\", \"Gambia\", \"Honduras\", \"Chile\", \"Papua New Guinea\", \"Cabo Verde\", \"Portugal\", \"Ukraine\", \"Angola\", \"Czech Republic\", \"Singapore\", \"Peru\", \"Albania\", \"Azerbaijan\", \"Slovakia\", \"Panama\", \"Thailand\", \"Rwanda\", \"Iraq\", \"Bangladesh\", \"Kyrgyzstan\", \"Costa Rica\", \"Switzerland\", \"Guatemala\", \"Cuba\", \"Barbados\", \"Malawi\", \"United Arab Emirates\", \"Malaysia\", \"Indonesia\", \"South Sudan\", \"Democratic Republic Of The Congo\", \"Libya\", \"Uzbekistan\", \"Sierra Leone\", \"Lithuania\", \"Chad\", \"Netherlands\", \"Bosnia And Herzegovina\", \"Oman\", \"Guam\", \"Bermuda\", \"Central African Republic\", \"New Zealand\", \"Luxembourg\", \"Namibia\", \"Eswatini\", \"Zambia\", \"Zimbabwe\", \"Hungary\", \"Croatia\", \"El Salvador\", \"Denmark\", \"Slovenia\", \"Ecuador\", \"Syrian Arab Republic\", \"Ethiopia\", \"Myanmar\", \"Sweden\", \"United States Virgin Islands\", \"Venezuela, Bolivarian Republic Of\", \"Ghana\", \"Egypt\", \"Norway\", \"Djibouti\", \"Dominican Republic\", \"Haiti\", \"Tajikistan\", \"Eritrea\", \"Tunisia\", \"San Marino\", \"Kuwait\", \"Cyprus\", \"Lesotho\", \"Bhutan\", \"Liberia\", \"Mozambique\", \"Jordan\", \"Afghanistan\", \"Timor-Leste\", \"Suriname\", \"Estonia\", \"Iceland\", \"Finland\", \"Mexico\", \"Aruba\", \"Lao People's Democratic Republic\", \"Seychelles\", \"Dominica\", \"Fiji\", \"Guinea\", \"Niger\", \"Romania\", \"Latvia\", \"Algeria\", \"Congo\", \"Mauritius\", \"Morocco\", \"Saudi Arabia\", \"Gabon\", \"Uruguay\", \"Lebanon\", \"Togo\", \"Cambodia\", \"Republic Of Moldova\", \"Qatar\", \"Greenland\", \"Burkina Faso\", \"Benin\", \"Mali\", \"Senegal\", \"Poland\", \"Mauritania\", \"Andorra\", \"Somalia\", \"Burundi\", \"Turkmenistan\", \"United Republic Of Tanzania\", \"British Virgin Islands\", \"Cameroon\", \"Brunei Darussalam\", \"Turks And Caicos Islands\", \"Vanuatu\", \"Solomon Islands\", \"Anguilla\", \"Yemen\", \"Gibraltar\", \"Montserrat\", \"Falkland Islands (Malvinas)\", \"Cayman Islands\", \"Nicaragua\", \"Belarus\", \"Pitcairn Islands\", \"American Samoa\", \"Antigua And Barbuda\", \"Armenia\", \"Bahamas\", \"Bonaire, Sint Eustatius And Saba\", \"Comoros\", \"Cook Islands\", \"Curacao\", \"Democratic People's Republic Of Korea\", \"Equatorial Guinea\", \"French Guiana\", \"French Polynesia\", \"Grenada\", \"Guadeloupe\", \"Guernsey\", \"Guinea-Bissau\", \"Isle Of Man\", \"Jersey\", \"Kiribati\", \"Liechtenstein\", \"Maldives\", \"Malta\", \"Marshall Islands\", \"Micronesia, Federated States Of\", \"Monaco\", \"Montenegro\", \"Nauru\", \"New Caledonia\", \"Niue\", \"North Macedonia\", \"Northern Mariana Islands, Commonwealth Of The\", \"Palau\", \"Reunion\", \"Saint Barthelemy\", \"Saint Kitts And Nevis\", \"Saint Lucia\", \"Saint Martin\", \"Saint Vincent And The Grenadines\", \"Samoa\", \"Sao Tome And Principe\", \"Sint Maarten\", \"South Georgia and the South Sandwich Islands\", \"Tonga\", \"Tuvalu\"]}],\n",
       "                        {\"barmode\": \"stack\", \"height\": 1800, \"paper_bgcolor\": \"rgba(0,0,0,0)\", \"plot_bgcolor\": \"rgba(0,0,0,0)\", \"template\": {\"data\": {\"bar\": [{\"error_x\": {\"color\": \"#2a3f5f\"}, \"error_y\": {\"color\": \"#2a3f5f\"}, \"marker\": {\"line\": {\"color\": \"#E5ECF6\", \"width\": 0.5}}, \"type\": \"bar\"}], \"barpolar\": [{\"marker\": {\"line\": {\"color\": \"#E5ECF6\", \"width\": 0.5}}, \"type\": \"barpolar\"}], \"carpet\": [{\"aaxis\": {\"endlinecolor\": \"#2a3f5f\", \"gridcolor\": \"white\", \"linecolor\": \"white\", \"minorgridcolor\": \"white\", \"startlinecolor\": \"#2a3f5f\"}, \"baxis\": {\"endlinecolor\": \"#2a3f5f\", \"gridcolor\": \"white\", \"linecolor\": \"white\", \"minorgridcolor\": \"white\", \"startlinecolor\": \"#2a3f5f\"}, \"type\": \"carpet\"}], \"choropleth\": [{\"colorbar\": {\"outlinewidth\": 0, \"ticks\": \"\"}, \"type\": \"choropleth\"}], \"contour\": [{\"colorbar\": {\"outlinewidth\": 0, \"ticks\": \"\"}, \"colorscale\": [[0.0, \"#0d0887\"], [0.1111111111111111, \"#46039f\"], [0.2222222222222222, \"#7201a8\"], [0.3333333333333333, \"#9c179e\"], [0.4444444444444444, \"#bd3786\"], [0.5555555555555556, \"#d8576b\"], [0.6666666666666666, \"#ed7953\"], [0.7777777777777778, \"#fb9f3a\"], [0.8888888888888888, \"#fdca26\"], [1.0, \"#f0f921\"]], \"type\": \"contour\"}], \"contourcarpet\": [{\"colorbar\": {\"outlinewidth\": 0, \"ticks\": \"\"}, \"type\": \"contourcarpet\"}], \"heatmap\": [{\"colorbar\": {\"outlinewidth\": 0, \"ticks\": \"\"}, \"colorscale\": [[0.0, \"#0d0887\"], [0.1111111111111111, \"#46039f\"], [0.2222222222222222, \"#7201a8\"], [0.3333333333333333, \"#9c179e\"], [0.4444444444444444, \"#bd3786\"], [0.5555555555555556, \"#d8576b\"], [0.6666666666666666, \"#ed7953\"], [0.7777777777777778, \"#fb9f3a\"], [0.8888888888888888, \"#fdca26\"], [1.0, \"#f0f921\"]], \"type\": \"heatmap\"}], \"heatmapgl\": [{\"colorbar\": {\"outlinewidth\": 0, \"ticks\": \"\"}, \"colorscale\": [[0.0, \"#0d0887\"], [0.1111111111111111, \"#46039f\"], [0.2222222222222222, \"#7201a8\"], [0.3333333333333333, \"#9c179e\"], [0.4444444444444444, \"#bd3786\"], [0.5555555555555556, \"#d8576b\"], [0.6666666666666666, \"#ed7953\"], [0.7777777777777778, \"#fb9f3a\"], [0.8888888888888888, \"#fdca26\"], [1.0, \"#f0f921\"]], \"type\": \"heatmapgl\"}], \"histogram\": [{\"marker\": {\"colorbar\": {\"outlinewidth\": 0, \"ticks\": \"\"}}, \"type\": \"histogram\"}], \"histogram2d\": [{\"colorbar\": {\"outlinewidth\": 0, \"ticks\": \"\"}, \"colorscale\": [[0.0, \"#0d0887\"], [0.1111111111111111, \"#46039f\"], [0.2222222222222222, \"#7201a8\"], [0.3333333333333333, \"#9c179e\"], [0.4444444444444444, \"#bd3786\"], [0.5555555555555556, \"#d8576b\"], [0.6666666666666666, \"#ed7953\"], [0.7777777777777778, \"#fb9f3a\"], [0.8888888888888888, \"#fdca26\"], [1.0, \"#f0f921\"]], \"type\": \"histogram2d\"}], \"histogram2dcontour\": [{\"colorbar\": {\"outlinewidth\": 0, \"ticks\": \"\"}, \"colorscale\": [[0.0, \"#0d0887\"], [0.1111111111111111, \"#46039f\"], [0.2222222222222222, \"#7201a8\"], [0.3333333333333333, \"#9c179e\"], [0.4444444444444444, \"#bd3786\"], [0.5555555555555556, \"#d8576b\"], [0.6666666666666666, \"#ed7953\"], [0.7777777777777778, \"#fb9f3a\"], [0.8888888888888888, \"#fdca26\"], [1.0, \"#f0f921\"]], \"type\": \"histogram2dcontour\"}], \"mesh3d\": [{\"colorbar\": {\"outlinewidth\": 0, \"ticks\": \"\"}, \"type\": \"mesh3d\"}], \"parcoords\": [{\"line\": {\"colorbar\": {\"outlinewidth\": 0, \"ticks\": \"\"}}, \"type\": \"parcoords\"}], \"pie\": [{\"automargin\": true, \"type\": \"pie\"}], \"scatter\": [{\"marker\": {\"colorbar\": {\"outlinewidth\": 0, \"ticks\": \"\"}}, \"type\": \"scatter\"}], \"scatter3d\": [{\"line\": {\"colorbar\": {\"outlinewidth\": 0, \"ticks\": \"\"}}, \"marker\": {\"colorbar\": {\"outlinewidth\": 0, \"ticks\": \"\"}}, \"type\": \"scatter3d\"}], \"scattercarpet\": [{\"marker\": {\"colorbar\": {\"outlinewidth\": 0, \"ticks\": \"\"}}, \"type\": \"scattercarpet\"}], \"scattergeo\": [{\"marker\": {\"colorbar\": {\"outlinewidth\": 0, \"ticks\": \"\"}}, \"type\": \"scattergeo\"}], \"scattergl\": [{\"marker\": {\"colorbar\": {\"outlinewidth\": 0, \"ticks\": \"\"}}, \"type\": \"scattergl\"}], \"scattermapbox\": [{\"marker\": {\"colorbar\": {\"outlinewidth\": 0, \"ticks\": \"\"}}, \"type\": \"scattermapbox\"}], \"scatterpolar\": [{\"marker\": {\"colorbar\": {\"outlinewidth\": 0, \"ticks\": \"\"}}, \"type\": \"scatterpolar\"}], \"scatterpolargl\": [{\"marker\": {\"colorbar\": {\"outlinewidth\": 0, \"ticks\": \"\"}}, \"type\": \"scatterpolargl\"}], \"scatterternary\": [{\"marker\": {\"colorbar\": {\"outlinewidth\": 0, \"ticks\": \"\"}}, \"type\": \"scatterternary\"}], \"surface\": [{\"colorbar\": {\"outlinewidth\": 0, \"ticks\": \"\"}, \"colorscale\": [[0.0, \"#0d0887\"], [0.1111111111111111, \"#46039f\"], [0.2222222222222222, \"#7201a8\"], [0.3333333333333333, \"#9c179e\"], [0.4444444444444444, \"#bd3786\"], [0.5555555555555556, \"#d8576b\"], [0.6666666666666666, \"#ed7953\"], [0.7777777777777778, \"#fb9f3a\"], [0.8888888888888888, \"#fdca26\"], [1.0, \"#f0f921\"]], \"type\": \"surface\"}], \"table\": [{\"cells\": {\"fill\": {\"color\": \"#EBF0F8\"}, \"line\": {\"color\": \"white\"}}, \"header\": {\"fill\": {\"color\": \"#C8D4E3\"}, \"line\": {\"color\": \"white\"}}, \"type\": \"table\"}]}, \"layout\": {\"annotationdefaults\": {\"arrowcolor\": \"#2a3f5f\", \"arrowhead\": 0, \"arrowwidth\": 1}, \"coloraxis\": {\"colorbar\": {\"outlinewidth\": 0, \"ticks\": \"\"}}, \"colorscale\": {\"diverging\": [[0, \"#8e0152\"], [0.1, \"#c51b7d\"], [0.2, \"#de77ae\"], [0.3, \"#f1b6da\"], [0.4, \"#fde0ef\"], [0.5, \"#f7f7f7\"], [0.6, \"#e6f5d0\"], [0.7, \"#b8e186\"], [0.8, \"#7fbc41\"], [0.9, \"#4d9221\"], [1, \"#276419\"]], \"sequential\": [[0.0, \"#0d0887\"], [0.1111111111111111, \"#46039f\"], [0.2222222222222222, \"#7201a8\"], [0.3333333333333333, \"#9c179e\"], [0.4444444444444444, \"#bd3786\"], [0.5555555555555556, \"#d8576b\"], [0.6666666666666666, \"#ed7953\"], [0.7777777777777778, \"#fb9f3a\"], [0.8888888888888888, \"#fdca26\"], [1.0, \"#f0f921\"]], \"sequentialminus\": [[0.0, \"#0d0887\"], [0.1111111111111111, \"#46039f\"], [0.2222222222222222, \"#7201a8\"], [0.3333333333333333, \"#9c179e\"], [0.4444444444444444, \"#bd3786\"], [0.5555555555555556, \"#d8576b\"], [0.6666666666666666, \"#ed7953\"], [0.7777777777777778, \"#fb9f3a\"], [0.8888888888888888, \"#fdca26\"], [1.0, \"#f0f921\"]]}, \"colorway\": [\"#636efa\", \"#EF553B\", \"#00cc96\", \"#ab63fa\", \"#FFA15A\", \"#19d3f3\", \"#FF6692\", \"#B6E880\", \"#FF97FF\", \"#FECB52\"], \"font\": {\"color\": \"#2a3f5f\"}, \"geo\": {\"bgcolor\": \"white\", \"lakecolor\": \"white\", \"landcolor\": \"#E5ECF6\", \"showlakes\": true, \"showland\": true, \"subunitcolor\": \"white\"}, \"hoverlabel\": {\"align\": \"left\"}, \"hovermode\": \"closest\", \"mapbox\": {\"style\": \"light\"}, \"paper_bgcolor\": \"white\", \"plot_bgcolor\": \"#E5ECF6\", \"polar\": {\"angularaxis\": {\"gridcolor\": \"white\", \"linecolor\": \"white\", \"ticks\": \"\"}, \"bgcolor\": \"#E5ECF6\", \"radialaxis\": {\"gridcolor\": \"white\", \"linecolor\": \"white\", \"ticks\": \"\"}}, \"scene\": {\"xaxis\": {\"backgroundcolor\": \"#E5ECF6\", \"gridcolor\": \"white\", \"gridwidth\": 2, \"linecolor\": \"white\", \"showbackground\": true, \"ticks\": \"\", \"zerolinecolor\": \"white\"}, \"yaxis\": {\"backgroundcolor\": \"#E5ECF6\", \"gridcolor\": \"white\", \"gridwidth\": 2, \"linecolor\": \"white\", \"showbackground\": true, \"ticks\": \"\", \"zerolinecolor\": \"white\"}, \"zaxis\": {\"backgroundcolor\": \"#E5ECF6\", \"gridcolor\": \"white\", \"gridwidth\": 2, \"linecolor\": \"white\", \"showbackground\": true, \"ticks\": \"\", \"zerolinecolor\": \"white\"}}, \"shapedefaults\": {\"line\": {\"color\": \"#2a3f5f\"}}, \"ternary\": {\"aaxis\": {\"gridcolor\": \"white\", \"linecolor\": \"white\", \"ticks\": \"\"}, \"baxis\": {\"gridcolor\": \"white\", \"linecolor\": \"white\", \"ticks\": \"\"}, \"bgcolor\": \"#E5ECF6\", \"caxis\": {\"gridcolor\": \"white\", \"linecolor\": \"white\", \"ticks\": \"\"}}, \"title\": {\"x\": 0.05}, \"xaxis\": {\"automargin\": true, \"gridcolor\": \"white\", \"linecolor\": \"white\", \"ticks\": \"\", \"title\": {\"standoff\": 15}, \"zerolinecolor\": \"white\", \"zerolinewidth\": 2}, \"yaxis\": {\"automargin\": true, \"gridcolor\": \"white\", \"linecolor\": \"white\", \"ticks\": \"\", \"title\": {\"standoff\": 15}, \"zerolinecolor\": \"white\", \"zerolinewidth\": 2}}}, \"title\": {\"text\": \"Records per country\"}, \"updatemenus\": [{\"buttons\": [{\"args\": [{\"visible\": [true, true, true, true]}, {\"showlegend\": true, \"title\": \"All\"}], \"label\": \"All\", \"method\": \"update\"}, {\"args\": [{\"visible\": [true, false, false, false]}, {\"showlegend\": true, \"title\": \"OXCGRT\"}], \"label\": \"ACAPS\", \"method\": \"update\"}, {\"args\": [{\"visible\": [false, true, false, false]}, {\"showlegend\": true, \"title\": \"CDC_ITF\"}], \"label\": \"CDC_ITF\", \"method\": \"update\"}, {\"args\": [{\"visible\": [false, false, true, false]}, {\"showlegend\": true, \"title\": \"JH_HIT\"}], \"label\": \"JH_HIT\", \"method\": \"update\"}, {\"args\": [{\"visible\": [false, false, false, true]}, {\"showlegend\": true, \"title\": \"OXCGRT\"}], \"label\": \"OXCGRT\", \"method\": \"update\"}], \"direction\": \"down\", \"pad\": {\"r\": 10, \"t\": 10}, \"showactive\": true, \"x\": 1, \"xanchor\": \"right\", \"y\": 1.052, \"yanchor\": \"top\"}], \"yaxis\": {\"tickfont\": {\"size\": 6}}},\n",
       "                        {\"responsive\": true}\n",
       "                    ).then(function(){\n",
       "                            \n",
       "var gd = document.getElementById('edb3861b-5ebd-4a0e-9220-2e32732156f9');\n",
       "var x = new MutationObserver(function (mutations, observer) {{\n",
       "        var display = window.getComputedStyle(gd).display;\n",
       "        if (!display || display === 'none') {{\n",
       "            console.log([gd, 'removed!']);\n",
       "            Plotly.purge(gd);\n",
       "            observer.disconnect();\n",
       "        }}\n",
       "}});\n",
       "\n",
       "// Listen for the removal of the full notebook cells\n",
       "var notebookContainer = gd.closest('#notebook-container');\n",
       "if (notebookContainer) {{\n",
       "    x.observe(notebookContainer, {childList: true});\n",
       "}}\n",
       "\n",
       "// Listen for the clearing of the current output cell\n",
       "var outputEl = gd.closest('.output');\n",
       "if (outputEl) {{\n",
       "    x.observe(outputEl, {childList: true});\n",
       "}}\n",
       "\n",
       "                        })\n",
       "                };\n",
       "                });\n",
       "            </script>\n",
       "        </div>"
      ]
     },
     "metadata": {},
     "output_type": "display_data"
    }
   ],
   "source": [
    "fig = go.Figure()\n",
    "\n",
    "for column in m.columns.to_list():\n",
    "    fig.add_trace(\n",
    "        go.Bar(\n",
    "            y = m.index,\n",
    "            x = m[column],\n",
    "            name = column,\n",
    "            orientation='h'\n",
    "        )\n",
    "    )\n",
    "    \n",
    "fig.update_layout(\n",
    "    height = 1800,\n",
    "    barmode='stack',\n",
    "    title = \"Records per country\",\n",
    "    paper_bgcolor='rgba(0,0,0,0)',\n",
    "    plot_bgcolor='rgba(0,0,0,0)',\n",
    "    updatemenus=[\n",
    "        dict(\n",
    "            buttons=[dict(label = 'All',\n",
    "                  method = 'update',\n",
    "                  args = [{'visible': [True, True, True, True]},\n",
    "                          {'title': 'All',\n",
    "                           'showlegend':True}]),\n",
    "             dict(label = 'ACAPS',\n",
    "                  method = 'update',\n",
    "                  args = [{'visible': [True, False, False, False]},\n",
    "                          {'title': 'OXCGRT',\n",
    "                          'showlegend':True}]),\n",
    "            dict(label = 'CDC_ITF',\n",
    "                method = 'update',\n",
    "                args = [{'visible': [False, True, False, False]},\n",
    "                        {'title': 'CDC_ITF',\n",
    "                        'showlegend':True}]),\n",
    "            dict(label = 'JH_HIT',\n",
    "                method = 'update',\n",
    "                args = [{'visible': [False, False, True, False]},\n",
    "                        {'title': 'JH_HIT',\n",
    "                        'showlegend':True}]),\n",
    "            dict(label = 'OXCGRT',\n",
    "                method = 'update',\n",
    "                args = [{'visible': [False, False, False, True]},\n",
    "                        {'title': 'OXCGRT',\n",
    "                        'showlegend':True}])],\n",
    "            direction=\"down\",\n",
    "            pad={\"r\": 10, \"t\": 10},\n",
    "            showactive=True,\n",
    "            x=1,\n",
    "            xanchor=\"right\",\n",
    "            y=1.052,\n",
    "            yanchor=\"top\"\n",
    "        ),\n",
    "    ]\n",
    ")\n",
    "\n",
    "fig = fig.update_yaxes(tickfont=dict(size=6))\n",
    "py.iplot(fig)"
   ]
  },
  {
   "cell_type": "code",
   "execution_count": null,
   "metadata": {},
   "outputs": [],
   "source": [
    "m"
   ]
  },
  {
   "cell_type": "markdown",
   "metadata": {},
   "source": [
    "### New Measures"
   ]
  },
  {
   "cell_type": "code",
   "execution_count": 107,
   "metadata": {},
   "outputs": [],
   "source": [
    "m = master.loc[master['processed'] == 'not_cleansed', ['dataset', 'who_code', 'who_id']]\n",
    "m = m.groupby(['dataset', 'who_code']).count().reset_index()\n",
    "#m['who_code'] = ['measure_' + x for x in m['who_code']]\n",
    "#m = m.loc[m['dataset'] == 'OXCGRT', :]\n",
    "m = m.pivot(index='who_code', columns='dataset', values='who_id')\n",
    "m = m.sort_values(by = 'OXCGRT', ascending = False)"
   ]
  },
  {
   "cell_type": "code",
   "execution_count": 108,
   "metadata": {},
   "outputs": [
    {
     "data": {
      "application/vnd.plotly.v1+json": {
       "config": {
        "linkText": "Export to plot.ly",
        "plotlyServerURL": "https://plot.ly",
        "showLink": false
       },
       "data": [
        {
         "name": "ACAPS",
         "orientation": "h",
         "type": "bar",
         "x": [
          null,
          80,
          24,
          19,
          null,
          null,
          null,
          null,
          18,
          null,
          21,
          3,
          13,
          24,
          10,
          14,
          5,
          22,
          64,
          69,
          7,
          1,
          1,
          null,
          null,
          6,
          12,
          null,
          null,
          1,
          41,
          42,
          3,
          null
         ],
         "y": [
          "1.4",
          "8.3",
          "4.1.2",
          "4.5.1",
          "4.3.4",
          "4.2.2",
          "4.3.3",
          "3.1.1",
          "8.4.1",
          "3.2.1",
          "4.5.2",
          "5.3",
          "5.5",
          "1.5",
          "2",
          "3.1",
          "3.1.2",
          "3.1.3",
          "4",
          "4.3",
          "4.3.2",
          "4.4.2",
          "4.5.3",
          "4.5.4",
          "5.1",
          "5.2",
          "5.7",
          "5.8",
          "5.9",
          "8.1",
          "8.2",
          "8.4",
          "8.5",
          "9"
         ]
        },
        {
         "name": "CDC_ITF",
         "orientation": "h",
         "type": "bar",
         "x": [
          11,
          null,
          94,
          8,
          20,
          35,
          null,
          null,
          null,
          null,
          45,
          null,
          16,
          null,
          null,
          null,
          null,
          null,
          null,
          null,
          null,
          null,
          null,
          1,
          2,
          1,
          4,
          null,
          17,
          null,
          null,
          null,
          null,
          1
         ],
         "y": [
          "1.4",
          "8.3",
          "4.1.2",
          "4.5.1",
          "4.3.4",
          "4.2.2",
          "4.3.3",
          "3.1.1",
          "8.4.1",
          "3.2.1",
          "4.5.2",
          "5.3",
          "5.5",
          "1.5",
          "2",
          "3.1",
          "3.1.2",
          "3.1.3",
          "4",
          "4.3",
          "4.3.2",
          "4.4.2",
          "4.5.3",
          "4.5.4",
          "5.1",
          "5.2",
          "5.7",
          "5.8",
          "5.9",
          "8.1",
          "8.2",
          "8.4",
          "8.5",
          "9"
         ]
        },
        {
         "name": "JH_HIT",
         "orientation": "h",
         "type": "bar",
         "x": [
          18,
          null,
          1660,
          19,
          null,
          null,
          null,
          null,
          null,
          null,
          50,
          null,
          16,
          null,
          null,
          null,
          null,
          null,
          null,
          null,
          null,
          null,
          47,
          null,
          null,
          null,
          25,
          9,
          34,
          4,
          null,
          null,
          null,
          null
         ],
         "y": [
          "1.4",
          "8.3",
          "4.1.2",
          "4.5.1",
          "4.3.4",
          "4.2.2",
          "4.3.3",
          "3.1.1",
          "8.4.1",
          "3.2.1",
          "4.5.2",
          "5.3",
          "5.5",
          "1.5",
          "2",
          "3.1",
          "3.1.2",
          "3.1.3",
          "4",
          "4.3",
          "4.3.2",
          "4.4.2",
          "4.5.3",
          "4.5.4",
          "5.1",
          "5.2",
          "5.7",
          "5.8",
          "5.9",
          "8.1",
          "8.2",
          "8.4",
          "8.5",
          "9"
         ]
        },
        {
         "name": "OXCGRT",
         "orientation": "h",
         "type": "bar",
         "x": [
          1564,
          393,
          355,
          325,
          318,
          317,
          298,
          287,
          272,
          268,
          225,
          134,
          125,
          null,
          null,
          null,
          null,
          null,
          null,
          null,
          null,
          null,
          null,
          null,
          null,
          null,
          null,
          null,
          null,
          null,
          null,
          null,
          null,
          null
         ],
         "y": [
          "1.4",
          "8.3",
          "4.1.2",
          "4.5.1",
          "4.3.4",
          "4.2.2",
          "4.3.3",
          "3.1.1",
          "8.4.1",
          "3.2.1",
          "4.5.2",
          "5.3",
          "5.5",
          "1.5",
          "2",
          "3.1",
          "3.1.2",
          "3.1.3",
          "4",
          "4.3",
          "4.3.2",
          "4.4.2",
          "4.5.3",
          "4.5.4",
          "5.1",
          "5.2",
          "5.7",
          "5.8",
          "5.9",
          "8.1",
          "8.2",
          "8.4",
          "8.5",
          "9"
         ]
        }
       ],
       "layout": {
        "barmode": "stack",
        "height": 1500,
        "paper_bgcolor": "rgba(0,0,0,0)",
        "plot_bgcolor": "rgba(0,0,0,0)",
        "template": {
         "data": {
          "bar": [
           {
            "error_x": {
             "color": "#2a3f5f"
            },
            "error_y": {
             "color": "#2a3f5f"
            },
            "marker": {
             "line": {
              "color": "#E5ECF6",
              "width": 0.5
             }
            },
            "type": "bar"
           }
          ],
          "barpolar": [
           {
            "marker": {
             "line": {
              "color": "#E5ECF6",
              "width": 0.5
             }
            },
            "type": "barpolar"
           }
          ],
          "carpet": [
           {
            "aaxis": {
             "endlinecolor": "#2a3f5f",
             "gridcolor": "white",
             "linecolor": "white",
             "minorgridcolor": "white",
             "startlinecolor": "#2a3f5f"
            },
            "baxis": {
             "endlinecolor": "#2a3f5f",
             "gridcolor": "white",
             "linecolor": "white",
             "minorgridcolor": "white",
             "startlinecolor": "#2a3f5f"
            },
            "type": "carpet"
           }
          ],
          "choropleth": [
           {
            "colorbar": {
             "outlinewidth": 0,
             "ticks": ""
            },
            "type": "choropleth"
           }
          ],
          "contour": [
           {
            "colorbar": {
             "outlinewidth": 0,
             "ticks": ""
            },
            "colorscale": [
             [
              0,
              "#0d0887"
             ],
             [
              0.1111111111111111,
              "#46039f"
             ],
             [
              0.2222222222222222,
              "#7201a8"
             ],
             [
              0.3333333333333333,
              "#9c179e"
             ],
             [
              0.4444444444444444,
              "#bd3786"
             ],
             [
              0.5555555555555556,
              "#d8576b"
             ],
             [
              0.6666666666666666,
              "#ed7953"
             ],
             [
              0.7777777777777778,
              "#fb9f3a"
             ],
             [
              0.8888888888888888,
              "#fdca26"
             ],
             [
              1,
              "#f0f921"
             ]
            ],
            "type": "contour"
           }
          ],
          "contourcarpet": [
           {
            "colorbar": {
             "outlinewidth": 0,
             "ticks": ""
            },
            "type": "contourcarpet"
           }
          ],
          "heatmap": [
           {
            "colorbar": {
             "outlinewidth": 0,
             "ticks": ""
            },
            "colorscale": [
             [
              0,
              "#0d0887"
             ],
             [
              0.1111111111111111,
              "#46039f"
             ],
             [
              0.2222222222222222,
              "#7201a8"
             ],
             [
              0.3333333333333333,
              "#9c179e"
             ],
             [
              0.4444444444444444,
              "#bd3786"
             ],
             [
              0.5555555555555556,
              "#d8576b"
             ],
             [
              0.6666666666666666,
              "#ed7953"
             ],
             [
              0.7777777777777778,
              "#fb9f3a"
             ],
             [
              0.8888888888888888,
              "#fdca26"
             ],
             [
              1,
              "#f0f921"
             ]
            ],
            "type": "heatmap"
           }
          ],
          "heatmapgl": [
           {
            "colorbar": {
             "outlinewidth": 0,
             "ticks": ""
            },
            "colorscale": [
             [
              0,
              "#0d0887"
             ],
             [
              0.1111111111111111,
              "#46039f"
             ],
             [
              0.2222222222222222,
              "#7201a8"
             ],
             [
              0.3333333333333333,
              "#9c179e"
             ],
             [
              0.4444444444444444,
              "#bd3786"
             ],
             [
              0.5555555555555556,
              "#d8576b"
             ],
             [
              0.6666666666666666,
              "#ed7953"
             ],
             [
              0.7777777777777778,
              "#fb9f3a"
             ],
             [
              0.8888888888888888,
              "#fdca26"
             ],
             [
              1,
              "#f0f921"
             ]
            ],
            "type": "heatmapgl"
           }
          ],
          "histogram": [
           {
            "marker": {
             "colorbar": {
              "outlinewidth": 0,
              "ticks": ""
             }
            },
            "type": "histogram"
           }
          ],
          "histogram2d": [
           {
            "colorbar": {
             "outlinewidth": 0,
             "ticks": ""
            },
            "colorscale": [
             [
              0,
              "#0d0887"
             ],
             [
              0.1111111111111111,
              "#46039f"
             ],
             [
              0.2222222222222222,
              "#7201a8"
             ],
             [
              0.3333333333333333,
              "#9c179e"
             ],
             [
              0.4444444444444444,
              "#bd3786"
             ],
             [
              0.5555555555555556,
              "#d8576b"
             ],
             [
              0.6666666666666666,
              "#ed7953"
             ],
             [
              0.7777777777777778,
              "#fb9f3a"
             ],
             [
              0.8888888888888888,
              "#fdca26"
             ],
             [
              1,
              "#f0f921"
             ]
            ],
            "type": "histogram2d"
           }
          ],
          "histogram2dcontour": [
           {
            "colorbar": {
             "outlinewidth": 0,
             "ticks": ""
            },
            "colorscale": [
             [
              0,
              "#0d0887"
             ],
             [
              0.1111111111111111,
              "#46039f"
             ],
             [
              0.2222222222222222,
              "#7201a8"
             ],
             [
              0.3333333333333333,
              "#9c179e"
             ],
             [
              0.4444444444444444,
              "#bd3786"
             ],
             [
              0.5555555555555556,
              "#d8576b"
             ],
             [
              0.6666666666666666,
              "#ed7953"
             ],
             [
              0.7777777777777778,
              "#fb9f3a"
             ],
             [
              0.8888888888888888,
              "#fdca26"
             ],
             [
              1,
              "#f0f921"
             ]
            ],
            "type": "histogram2dcontour"
           }
          ],
          "mesh3d": [
           {
            "colorbar": {
             "outlinewidth": 0,
             "ticks": ""
            },
            "type": "mesh3d"
           }
          ],
          "parcoords": [
           {
            "line": {
             "colorbar": {
              "outlinewidth": 0,
              "ticks": ""
             }
            },
            "type": "parcoords"
           }
          ],
          "pie": [
           {
            "automargin": true,
            "type": "pie"
           }
          ],
          "scatter": [
           {
            "marker": {
             "colorbar": {
              "outlinewidth": 0,
              "ticks": ""
             }
            },
            "type": "scatter"
           }
          ],
          "scatter3d": [
           {
            "line": {
             "colorbar": {
              "outlinewidth": 0,
              "ticks": ""
             }
            },
            "marker": {
             "colorbar": {
              "outlinewidth": 0,
              "ticks": ""
             }
            },
            "type": "scatter3d"
           }
          ],
          "scattercarpet": [
           {
            "marker": {
             "colorbar": {
              "outlinewidth": 0,
              "ticks": ""
             }
            },
            "type": "scattercarpet"
           }
          ],
          "scattergeo": [
           {
            "marker": {
             "colorbar": {
              "outlinewidth": 0,
              "ticks": ""
             }
            },
            "type": "scattergeo"
           }
          ],
          "scattergl": [
           {
            "marker": {
             "colorbar": {
              "outlinewidth": 0,
              "ticks": ""
             }
            },
            "type": "scattergl"
           }
          ],
          "scattermapbox": [
           {
            "marker": {
             "colorbar": {
              "outlinewidth": 0,
              "ticks": ""
             }
            },
            "type": "scattermapbox"
           }
          ],
          "scatterpolar": [
           {
            "marker": {
             "colorbar": {
              "outlinewidth": 0,
              "ticks": ""
             }
            },
            "type": "scatterpolar"
           }
          ],
          "scatterpolargl": [
           {
            "marker": {
             "colorbar": {
              "outlinewidth": 0,
              "ticks": ""
             }
            },
            "type": "scatterpolargl"
           }
          ],
          "scatterternary": [
           {
            "marker": {
             "colorbar": {
              "outlinewidth": 0,
              "ticks": ""
             }
            },
            "type": "scatterternary"
           }
          ],
          "surface": [
           {
            "colorbar": {
             "outlinewidth": 0,
             "ticks": ""
            },
            "colorscale": [
             [
              0,
              "#0d0887"
             ],
             [
              0.1111111111111111,
              "#46039f"
             ],
             [
              0.2222222222222222,
              "#7201a8"
             ],
             [
              0.3333333333333333,
              "#9c179e"
             ],
             [
              0.4444444444444444,
              "#bd3786"
             ],
             [
              0.5555555555555556,
              "#d8576b"
             ],
             [
              0.6666666666666666,
              "#ed7953"
             ],
             [
              0.7777777777777778,
              "#fb9f3a"
             ],
             [
              0.8888888888888888,
              "#fdca26"
             ],
             [
              1,
              "#f0f921"
             ]
            ],
            "type": "surface"
           }
          ],
          "table": [
           {
            "cells": {
             "fill": {
              "color": "#EBF0F8"
             },
             "line": {
              "color": "white"
             }
            },
            "header": {
             "fill": {
              "color": "#C8D4E3"
             },
             "line": {
              "color": "white"
             }
            },
            "type": "table"
           }
          ]
         },
         "layout": {
          "annotationdefaults": {
           "arrowcolor": "#2a3f5f",
           "arrowhead": 0,
           "arrowwidth": 1
          },
          "coloraxis": {
           "colorbar": {
            "outlinewidth": 0,
            "ticks": ""
           }
          },
          "colorscale": {
           "diverging": [
            [
             0,
             "#8e0152"
            ],
            [
             0.1,
             "#c51b7d"
            ],
            [
             0.2,
             "#de77ae"
            ],
            [
             0.3,
             "#f1b6da"
            ],
            [
             0.4,
             "#fde0ef"
            ],
            [
             0.5,
             "#f7f7f7"
            ],
            [
             0.6,
             "#e6f5d0"
            ],
            [
             0.7,
             "#b8e186"
            ],
            [
             0.8,
             "#7fbc41"
            ],
            [
             0.9,
             "#4d9221"
            ],
            [
             1,
             "#276419"
            ]
           ],
           "sequential": [
            [
             0,
             "#0d0887"
            ],
            [
             0.1111111111111111,
             "#46039f"
            ],
            [
             0.2222222222222222,
             "#7201a8"
            ],
            [
             0.3333333333333333,
             "#9c179e"
            ],
            [
             0.4444444444444444,
             "#bd3786"
            ],
            [
             0.5555555555555556,
             "#d8576b"
            ],
            [
             0.6666666666666666,
             "#ed7953"
            ],
            [
             0.7777777777777778,
             "#fb9f3a"
            ],
            [
             0.8888888888888888,
             "#fdca26"
            ],
            [
             1,
             "#f0f921"
            ]
           ],
           "sequentialminus": [
            [
             0,
             "#0d0887"
            ],
            [
             0.1111111111111111,
             "#46039f"
            ],
            [
             0.2222222222222222,
             "#7201a8"
            ],
            [
             0.3333333333333333,
             "#9c179e"
            ],
            [
             0.4444444444444444,
             "#bd3786"
            ],
            [
             0.5555555555555556,
             "#d8576b"
            ],
            [
             0.6666666666666666,
             "#ed7953"
            ],
            [
             0.7777777777777778,
             "#fb9f3a"
            ],
            [
             0.8888888888888888,
             "#fdca26"
            ],
            [
             1,
             "#f0f921"
            ]
           ]
          },
          "colorway": [
           "#636efa",
           "#EF553B",
           "#00cc96",
           "#ab63fa",
           "#FFA15A",
           "#19d3f3",
           "#FF6692",
           "#B6E880",
           "#FF97FF",
           "#FECB52"
          ],
          "font": {
           "color": "#2a3f5f"
          },
          "geo": {
           "bgcolor": "white",
           "lakecolor": "white",
           "landcolor": "#E5ECF6",
           "showlakes": true,
           "showland": true,
           "subunitcolor": "white"
          },
          "hoverlabel": {
           "align": "left"
          },
          "hovermode": "closest",
          "mapbox": {
           "style": "light"
          },
          "paper_bgcolor": "white",
          "plot_bgcolor": "#E5ECF6",
          "polar": {
           "angularaxis": {
            "gridcolor": "white",
            "linecolor": "white",
            "ticks": ""
           },
           "bgcolor": "#E5ECF6",
           "radialaxis": {
            "gridcolor": "white",
            "linecolor": "white",
            "ticks": ""
           }
          },
          "scene": {
           "xaxis": {
            "backgroundcolor": "#E5ECF6",
            "gridcolor": "white",
            "gridwidth": 2,
            "linecolor": "white",
            "showbackground": true,
            "ticks": "",
            "zerolinecolor": "white"
           },
           "yaxis": {
            "backgroundcolor": "#E5ECF6",
            "gridcolor": "white",
            "gridwidth": 2,
            "linecolor": "white",
            "showbackground": true,
            "ticks": "",
            "zerolinecolor": "white"
           },
           "zaxis": {
            "backgroundcolor": "#E5ECF6",
            "gridcolor": "white",
            "gridwidth": 2,
            "linecolor": "white",
            "showbackground": true,
            "ticks": "",
            "zerolinecolor": "white"
           }
          },
          "shapedefaults": {
           "line": {
            "color": "#2a3f5f"
           }
          },
          "ternary": {
           "aaxis": {
            "gridcolor": "white",
            "linecolor": "white",
            "ticks": ""
           },
           "baxis": {
            "gridcolor": "white",
            "linecolor": "white",
            "ticks": ""
           },
           "bgcolor": "#E5ECF6",
           "caxis": {
            "gridcolor": "white",
            "linecolor": "white",
            "ticks": ""
           }
          },
          "title": {
           "x": 0.05
          },
          "xaxis": {
           "automargin": true,
           "gridcolor": "white",
           "linecolor": "white",
           "ticks": "",
           "title": {
            "standoff": 15
           },
           "zerolinecolor": "white",
           "zerolinewidth": 2
          },
          "yaxis": {
           "automargin": true,
           "gridcolor": "white",
           "linecolor": "white",
           "ticks": "",
           "title": {
            "standoff": 15
           },
           "zerolinecolor": "white",
           "zerolinewidth": 2
          }
         }
        },
        "title": {
         "text": "Records per country"
        },
        "updatemenus": [
         {
          "buttons": [
           {
            "args": [
             {
              "visible": [
               true,
               true,
               true,
               true
              ]
             },
             {
              "showlegend": true,
              "title": "All"
             }
            ],
            "label": "All",
            "method": "update"
           },
           {
            "args": [
             {
              "visible": [
               true,
               false,
               false,
               false
              ]
             },
             {
              "showlegend": true,
              "title": "OXCGRT"
             }
            ],
            "label": "ACAPS",
            "method": "update"
           },
           {
            "args": [
             {
              "visible": [
               false,
               true,
               false,
               false
              ]
             },
             {
              "showlegend": true,
              "title": "CDC_ITF"
             }
            ],
            "label": "CDC_ITF",
            "method": "update"
           },
           {
            "args": [
             {
              "visible": [
               false,
               false,
               true,
               false
              ]
             },
             {
              "showlegend": true,
              "title": "JH_HIT"
             }
            ],
            "label": "JH_HIT",
            "method": "update"
           },
           {
            "args": [
             {
              "visible": [
               false,
               false,
               false,
               true
              ]
             },
             {
              "showlegend": true,
              "title": "OXCGRT"
             }
            ],
            "label": "OXCGRT",
            "method": "update"
           }
          ],
          "direction": "down",
          "pad": {
           "r": 10,
           "t": 10
          },
          "showactive": true,
          "x": 1,
          "xanchor": "right",
          "y": 1.052,
          "yanchor": "top"
         }
        ],
        "yaxis": {
         "tickfont": {
          "size": 10
         },
         "type": "category"
        }
       }
      },
      "text/html": [
       "<div>\n",
       "        \n",
       "        \n",
       "            <div id=\"0cada767-af0f-472d-ba7a-0e51b0bb96fe\" class=\"plotly-graph-div\" style=\"height:1500px; width:100%;\"></div>\n",
       "            <script type=\"text/javascript\">\n",
       "                require([\"plotly\"], function(Plotly) {\n",
       "                    window.PLOTLYENV=window.PLOTLYENV || {};\n",
       "                    \n",
       "                if (document.getElementById(\"0cada767-af0f-472d-ba7a-0e51b0bb96fe\")) {\n",
       "                    Plotly.newPlot(\n",
       "                        '0cada767-af0f-472d-ba7a-0e51b0bb96fe',\n",
       "                        [{\"name\": \"ACAPS\", \"orientation\": \"h\", \"type\": \"bar\", \"x\": [null, 80.0, 24.0, 19.0, null, null, null, null, 18.0, null, 21.0, 3.0, 13.0, 24.0, 10.0, 14.0, 5.0, 22.0, 64.0, 69.0, 7.0, 1.0, 1.0, null, null, 6.0, 12.0, null, null, 1.0, 41.0, 42.0, 3.0, null], \"y\": [\"1.4\", \"8.3\", \"4.1.2\", \"4.5.1\", \"4.3.4\", \"4.2.2\", \"4.3.3\", \"3.1.1\", \"8.4.1\", \"3.2.1\", \"4.5.2\", \"5.3\", \"5.5\", \"1.5\", \"2\", \"3.1\", \"3.1.2\", \"3.1.3\", \"4\", \"4.3\", \"4.3.2\", \"4.4.2\", \"4.5.3\", \"4.5.4\", \"5.1\", \"5.2\", \"5.7\", \"5.8\", \"5.9\", \"8.1\", \"8.2\", \"8.4\", \"8.5\", \"9\"]}, {\"name\": \"CDC_ITF\", \"orientation\": \"h\", \"type\": \"bar\", \"x\": [11.0, null, 94.0, 8.0, 20.0, 35.0, null, null, null, null, 45.0, null, 16.0, null, null, null, null, null, null, null, null, null, null, 1.0, 2.0, 1.0, 4.0, null, 17.0, null, null, null, null, 1.0], \"y\": [\"1.4\", \"8.3\", \"4.1.2\", \"4.5.1\", \"4.3.4\", \"4.2.2\", \"4.3.3\", \"3.1.1\", \"8.4.1\", \"3.2.1\", \"4.5.2\", \"5.3\", \"5.5\", \"1.5\", \"2\", \"3.1\", \"3.1.2\", \"3.1.3\", \"4\", \"4.3\", \"4.3.2\", \"4.4.2\", \"4.5.3\", \"4.5.4\", \"5.1\", \"5.2\", \"5.7\", \"5.8\", \"5.9\", \"8.1\", \"8.2\", \"8.4\", \"8.5\", \"9\"]}, {\"name\": \"JH_HIT\", \"orientation\": \"h\", \"type\": \"bar\", \"x\": [18.0, null, 1660.0, 19.0, null, null, null, null, null, null, 50.0, null, 16.0, null, null, null, null, null, null, null, null, null, 47.0, null, null, null, 25.0, 9.0, 34.0, 4.0, null, null, null, null], \"y\": [\"1.4\", \"8.3\", \"4.1.2\", \"4.5.1\", \"4.3.4\", \"4.2.2\", \"4.3.3\", \"3.1.1\", \"8.4.1\", \"3.2.1\", \"4.5.2\", \"5.3\", \"5.5\", \"1.5\", \"2\", \"3.1\", \"3.1.2\", \"3.1.3\", \"4\", \"4.3\", \"4.3.2\", \"4.4.2\", \"4.5.3\", \"4.5.4\", \"5.1\", \"5.2\", \"5.7\", \"5.8\", \"5.9\", \"8.1\", \"8.2\", \"8.4\", \"8.5\", \"9\"]}, {\"name\": \"OXCGRT\", \"orientation\": \"h\", \"type\": \"bar\", \"x\": [1564.0, 393.0, 355.0, 325.0, 318.0, 317.0, 298.0, 287.0, 272.0, 268.0, 225.0, 134.0, 125.0, null, null, null, null, null, null, null, null, null, null, null, null, null, null, null, null, null, null, null, null, null], \"y\": [\"1.4\", \"8.3\", \"4.1.2\", \"4.5.1\", \"4.3.4\", \"4.2.2\", \"4.3.3\", \"3.1.1\", \"8.4.1\", \"3.2.1\", \"4.5.2\", \"5.3\", \"5.5\", \"1.5\", \"2\", \"3.1\", \"3.1.2\", \"3.1.3\", \"4\", \"4.3\", \"4.3.2\", \"4.4.2\", \"4.5.3\", \"4.5.4\", \"5.1\", \"5.2\", \"5.7\", \"5.8\", \"5.9\", \"8.1\", \"8.2\", \"8.4\", \"8.5\", \"9\"]}],\n",
       "                        {\"barmode\": \"stack\", \"height\": 1500, \"paper_bgcolor\": \"rgba(0,0,0,0)\", \"plot_bgcolor\": \"rgba(0,0,0,0)\", \"template\": {\"data\": {\"bar\": [{\"error_x\": {\"color\": \"#2a3f5f\"}, \"error_y\": {\"color\": \"#2a3f5f\"}, \"marker\": {\"line\": {\"color\": \"#E5ECF6\", \"width\": 0.5}}, \"type\": \"bar\"}], \"barpolar\": [{\"marker\": {\"line\": {\"color\": \"#E5ECF6\", \"width\": 0.5}}, \"type\": \"barpolar\"}], \"carpet\": [{\"aaxis\": {\"endlinecolor\": \"#2a3f5f\", \"gridcolor\": \"white\", \"linecolor\": \"white\", \"minorgridcolor\": \"white\", \"startlinecolor\": \"#2a3f5f\"}, \"baxis\": {\"endlinecolor\": \"#2a3f5f\", \"gridcolor\": \"white\", \"linecolor\": \"white\", \"minorgridcolor\": \"white\", \"startlinecolor\": \"#2a3f5f\"}, \"type\": \"carpet\"}], \"choropleth\": [{\"colorbar\": {\"outlinewidth\": 0, \"ticks\": \"\"}, \"type\": \"choropleth\"}], \"contour\": [{\"colorbar\": {\"outlinewidth\": 0, \"ticks\": \"\"}, \"colorscale\": [[0.0, \"#0d0887\"], [0.1111111111111111, \"#46039f\"], [0.2222222222222222, \"#7201a8\"], [0.3333333333333333, \"#9c179e\"], [0.4444444444444444, \"#bd3786\"], [0.5555555555555556, \"#d8576b\"], [0.6666666666666666, \"#ed7953\"], [0.7777777777777778, \"#fb9f3a\"], [0.8888888888888888, \"#fdca26\"], [1.0, \"#f0f921\"]], \"type\": \"contour\"}], \"contourcarpet\": [{\"colorbar\": {\"outlinewidth\": 0, \"ticks\": \"\"}, \"type\": \"contourcarpet\"}], \"heatmap\": [{\"colorbar\": {\"outlinewidth\": 0, \"ticks\": \"\"}, \"colorscale\": [[0.0, \"#0d0887\"], [0.1111111111111111, \"#46039f\"], [0.2222222222222222, \"#7201a8\"], [0.3333333333333333, \"#9c179e\"], [0.4444444444444444, \"#bd3786\"], [0.5555555555555556, \"#d8576b\"], [0.6666666666666666, \"#ed7953\"], [0.7777777777777778, \"#fb9f3a\"], [0.8888888888888888, \"#fdca26\"], [1.0, \"#f0f921\"]], \"type\": \"heatmap\"}], \"heatmapgl\": [{\"colorbar\": {\"outlinewidth\": 0, \"ticks\": \"\"}, \"colorscale\": [[0.0, \"#0d0887\"], [0.1111111111111111, \"#46039f\"], [0.2222222222222222, \"#7201a8\"], [0.3333333333333333, \"#9c179e\"], [0.4444444444444444, \"#bd3786\"], [0.5555555555555556, \"#d8576b\"], [0.6666666666666666, \"#ed7953\"], [0.7777777777777778, \"#fb9f3a\"], [0.8888888888888888, \"#fdca26\"], [1.0, \"#f0f921\"]], \"type\": \"heatmapgl\"}], \"histogram\": [{\"marker\": {\"colorbar\": {\"outlinewidth\": 0, \"ticks\": \"\"}}, \"type\": \"histogram\"}], \"histogram2d\": [{\"colorbar\": {\"outlinewidth\": 0, \"ticks\": \"\"}, \"colorscale\": [[0.0, \"#0d0887\"], [0.1111111111111111, \"#46039f\"], [0.2222222222222222, \"#7201a8\"], [0.3333333333333333, \"#9c179e\"], [0.4444444444444444, \"#bd3786\"], [0.5555555555555556, \"#d8576b\"], [0.6666666666666666, \"#ed7953\"], [0.7777777777777778, \"#fb9f3a\"], [0.8888888888888888, \"#fdca26\"], [1.0, \"#f0f921\"]], \"type\": \"histogram2d\"}], \"histogram2dcontour\": [{\"colorbar\": {\"outlinewidth\": 0, \"ticks\": \"\"}, \"colorscale\": [[0.0, \"#0d0887\"], [0.1111111111111111, \"#46039f\"], [0.2222222222222222, \"#7201a8\"], [0.3333333333333333, \"#9c179e\"], [0.4444444444444444, \"#bd3786\"], [0.5555555555555556, \"#d8576b\"], [0.6666666666666666, \"#ed7953\"], [0.7777777777777778, \"#fb9f3a\"], [0.8888888888888888, \"#fdca26\"], [1.0, \"#f0f921\"]], \"type\": \"histogram2dcontour\"}], \"mesh3d\": [{\"colorbar\": {\"outlinewidth\": 0, \"ticks\": \"\"}, \"type\": \"mesh3d\"}], \"parcoords\": [{\"line\": {\"colorbar\": {\"outlinewidth\": 0, \"ticks\": \"\"}}, \"type\": \"parcoords\"}], \"pie\": [{\"automargin\": true, \"type\": \"pie\"}], \"scatter\": [{\"marker\": {\"colorbar\": {\"outlinewidth\": 0, \"ticks\": \"\"}}, \"type\": \"scatter\"}], \"scatter3d\": [{\"line\": {\"colorbar\": {\"outlinewidth\": 0, \"ticks\": \"\"}}, \"marker\": {\"colorbar\": {\"outlinewidth\": 0, \"ticks\": \"\"}}, \"type\": \"scatter3d\"}], \"scattercarpet\": [{\"marker\": {\"colorbar\": {\"outlinewidth\": 0, \"ticks\": \"\"}}, \"type\": \"scattercarpet\"}], \"scattergeo\": [{\"marker\": {\"colorbar\": {\"outlinewidth\": 0, \"ticks\": \"\"}}, \"type\": \"scattergeo\"}], \"scattergl\": [{\"marker\": {\"colorbar\": {\"outlinewidth\": 0, \"ticks\": \"\"}}, \"type\": \"scattergl\"}], \"scattermapbox\": [{\"marker\": {\"colorbar\": {\"outlinewidth\": 0, \"ticks\": \"\"}}, \"type\": \"scattermapbox\"}], \"scatterpolar\": [{\"marker\": {\"colorbar\": {\"outlinewidth\": 0, \"ticks\": \"\"}}, \"type\": \"scatterpolar\"}], \"scatterpolargl\": [{\"marker\": {\"colorbar\": {\"outlinewidth\": 0, \"ticks\": \"\"}}, \"type\": \"scatterpolargl\"}], \"scatterternary\": [{\"marker\": {\"colorbar\": {\"outlinewidth\": 0, \"ticks\": \"\"}}, \"type\": \"scatterternary\"}], \"surface\": [{\"colorbar\": {\"outlinewidth\": 0, \"ticks\": \"\"}, \"colorscale\": [[0.0, \"#0d0887\"], [0.1111111111111111, \"#46039f\"], [0.2222222222222222, \"#7201a8\"], [0.3333333333333333, \"#9c179e\"], [0.4444444444444444, \"#bd3786\"], [0.5555555555555556, \"#d8576b\"], [0.6666666666666666, \"#ed7953\"], [0.7777777777777778, \"#fb9f3a\"], [0.8888888888888888, \"#fdca26\"], [1.0, \"#f0f921\"]], \"type\": \"surface\"}], \"table\": [{\"cells\": {\"fill\": {\"color\": \"#EBF0F8\"}, \"line\": {\"color\": \"white\"}}, \"header\": {\"fill\": {\"color\": \"#C8D4E3\"}, \"line\": {\"color\": \"white\"}}, \"type\": \"table\"}]}, \"layout\": {\"annotationdefaults\": {\"arrowcolor\": \"#2a3f5f\", \"arrowhead\": 0, \"arrowwidth\": 1}, \"coloraxis\": {\"colorbar\": {\"outlinewidth\": 0, \"ticks\": \"\"}}, \"colorscale\": {\"diverging\": [[0, \"#8e0152\"], [0.1, \"#c51b7d\"], [0.2, \"#de77ae\"], [0.3, \"#f1b6da\"], [0.4, \"#fde0ef\"], [0.5, \"#f7f7f7\"], [0.6, \"#e6f5d0\"], [0.7, \"#b8e186\"], [0.8, \"#7fbc41\"], [0.9, \"#4d9221\"], [1, \"#276419\"]], \"sequential\": [[0.0, \"#0d0887\"], [0.1111111111111111, \"#46039f\"], [0.2222222222222222, \"#7201a8\"], [0.3333333333333333, \"#9c179e\"], [0.4444444444444444, \"#bd3786\"], [0.5555555555555556, \"#d8576b\"], [0.6666666666666666, \"#ed7953\"], [0.7777777777777778, \"#fb9f3a\"], [0.8888888888888888, \"#fdca26\"], [1.0, \"#f0f921\"]], \"sequentialminus\": [[0.0, \"#0d0887\"], [0.1111111111111111, \"#46039f\"], [0.2222222222222222, \"#7201a8\"], [0.3333333333333333, \"#9c179e\"], [0.4444444444444444, \"#bd3786\"], [0.5555555555555556, \"#d8576b\"], [0.6666666666666666, \"#ed7953\"], [0.7777777777777778, \"#fb9f3a\"], [0.8888888888888888, \"#fdca26\"], [1.0, \"#f0f921\"]]}, \"colorway\": [\"#636efa\", \"#EF553B\", \"#00cc96\", \"#ab63fa\", \"#FFA15A\", \"#19d3f3\", \"#FF6692\", \"#B6E880\", \"#FF97FF\", \"#FECB52\"], \"font\": {\"color\": \"#2a3f5f\"}, \"geo\": {\"bgcolor\": \"white\", \"lakecolor\": \"white\", \"landcolor\": \"#E5ECF6\", \"showlakes\": true, \"showland\": true, \"subunitcolor\": \"white\"}, \"hoverlabel\": {\"align\": \"left\"}, \"hovermode\": \"closest\", \"mapbox\": {\"style\": \"light\"}, \"paper_bgcolor\": \"white\", \"plot_bgcolor\": \"#E5ECF6\", \"polar\": {\"angularaxis\": {\"gridcolor\": \"white\", \"linecolor\": \"white\", \"ticks\": \"\"}, \"bgcolor\": \"#E5ECF6\", \"radialaxis\": {\"gridcolor\": \"white\", \"linecolor\": \"white\", \"ticks\": \"\"}}, \"scene\": {\"xaxis\": {\"backgroundcolor\": \"#E5ECF6\", \"gridcolor\": \"white\", \"gridwidth\": 2, \"linecolor\": \"white\", \"showbackground\": true, \"ticks\": \"\", \"zerolinecolor\": \"white\"}, \"yaxis\": {\"backgroundcolor\": \"#E5ECF6\", \"gridcolor\": \"white\", \"gridwidth\": 2, \"linecolor\": \"white\", \"showbackground\": true, \"ticks\": \"\", \"zerolinecolor\": \"white\"}, \"zaxis\": {\"backgroundcolor\": \"#E5ECF6\", \"gridcolor\": \"white\", \"gridwidth\": 2, \"linecolor\": \"white\", \"showbackground\": true, \"ticks\": \"\", \"zerolinecolor\": \"white\"}}, \"shapedefaults\": {\"line\": {\"color\": \"#2a3f5f\"}}, \"ternary\": {\"aaxis\": {\"gridcolor\": \"white\", \"linecolor\": \"white\", \"ticks\": \"\"}, \"baxis\": {\"gridcolor\": \"white\", \"linecolor\": \"white\", \"ticks\": \"\"}, \"bgcolor\": \"#E5ECF6\", \"caxis\": {\"gridcolor\": \"white\", \"linecolor\": \"white\", \"ticks\": \"\"}}, \"title\": {\"x\": 0.05}, \"xaxis\": {\"automargin\": true, \"gridcolor\": \"white\", \"linecolor\": \"white\", \"ticks\": \"\", \"title\": {\"standoff\": 15}, \"zerolinecolor\": \"white\", \"zerolinewidth\": 2}, \"yaxis\": {\"automargin\": true, \"gridcolor\": \"white\", \"linecolor\": \"white\", \"ticks\": \"\", \"title\": {\"standoff\": 15}, \"zerolinecolor\": \"white\", \"zerolinewidth\": 2}}}, \"title\": {\"text\": \"Records per country\"}, \"updatemenus\": [{\"buttons\": [{\"args\": [{\"visible\": [true, true, true, true]}, {\"showlegend\": true, \"title\": \"All\"}], \"label\": \"All\", \"method\": \"update\"}, {\"args\": [{\"visible\": [true, false, false, false]}, {\"showlegend\": true, \"title\": \"OXCGRT\"}], \"label\": \"ACAPS\", \"method\": \"update\"}, {\"args\": [{\"visible\": [false, true, false, false]}, {\"showlegend\": true, \"title\": \"CDC_ITF\"}], \"label\": \"CDC_ITF\", \"method\": \"update\"}, {\"args\": [{\"visible\": [false, false, true, false]}, {\"showlegend\": true, \"title\": \"JH_HIT\"}], \"label\": \"JH_HIT\", \"method\": \"update\"}, {\"args\": [{\"visible\": [false, false, false, true]}, {\"showlegend\": true, \"title\": \"OXCGRT\"}], \"label\": \"OXCGRT\", \"method\": \"update\"}], \"direction\": \"down\", \"pad\": {\"r\": 10, \"t\": 10}, \"showactive\": true, \"x\": 1, \"xanchor\": \"right\", \"y\": 1.052, \"yanchor\": \"top\"}], \"yaxis\": {\"tickfont\": {\"size\": 10}, \"type\": \"category\"}},\n",
       "                        {\"responsive\": true}\n",
       "                    ).then(function(){\n",
       "                            \n",
       "var gd = document.getElementById('0cada767-af0f-472d-ba7a-0e51b0bb96fe');\n",
       "var x = new MutationObserver(function (mutations, observer) {{\n",
       "        var display = window.getComputedStyle(gd).display;\n",
       "        if (!display || display === 'none') {{\n",
       "            console.log([gd, 'removed!']);\n",
       "            Plotly.purge(gd);\n",
       "            observer.disconnect();\n",
       "        }}\n",
       "}});\n",
       "\n",
       "// Listen for the removal of the full notebook cells\n",
       "var notebookContainer = gd.closest('#notebook-container');\n",
       "if (notebookContainer) {{\n",
       "    x.observe(notebookContainer, {childList: true});\n",
       "}}\n",
       "\n",
       "// Listen for the clearing of the current output cell\n",
       "var outputEl = gd.closest('.output');\n",
       "if (outputEl) {{\n",
       "    x.observe(outputEl, {childList: true});\n",
       "}}\n",
       "\n",
       "                        })\n",
       "                };\n",
       "                });\n",
       "            </script>\n",
       "        </div>"
      ]
     },
     "metadata": {},
     "output_type": "display_data"
    }
   ],
   "source": [
    "fig = go.Figure()\n",
    "\n",
    "fig.update_yaxes(type='category')\n",
    "\n",
    "for column in m.columns.to_list():\n",
    "    fig.add_trace(\n",
    "        go.Bar(\n",
    "            y = m.index,\n",
    "            x = m[column],\n",
    "            name = column,\n",
    "            orientation='h'\n",
    "        )\n",
    "    )\n",
    "    \n",
    "fig.update_layout(\n",
    "    height = 1500,\n",
    "    barmode='stack',\n",
    "    title = \"Records per WHO code\",\n",
    "    paper_bgcolor='rgba(0,0,0,0)',\n",
    "    plot_bgcolor='rgba(0,0,0,0)',\n",
    "    updatemenus=[\n",
    "        dict(\n",
    "            buttons=[dict(label = 'All',\n",
    "                  method = 'update',\n",
    "                  args = [{'visible': [True, True, True, True]},\n",
    "                          {'title': 'All',\n",
    "                           'showlegend':True}]),\n",
    "             dict(label = 'ACAPS',\n",
    "                  method = 'update',\n",
    "                  args = [{'visible': [True, False, False, False]},\n",
    "                          {'title': 'OXCGRT',\n",
    "                          'showlegend':True}]),\n",
    "            dict(label = 'CDC_ITF',\n",
    "                method = 'update',\n",
    "                args = [{'visible': [False, True, False, False]},\n",
    "                        {'title': 'CDC_ITF',\n",
    "                        'showlegend':True}]),\n",
    "            dict(label = 'JH_HIT',\n",
    "                method = 'update',\n",
    "                args = [{'visible': [False, False, True, False]},\n",
    "                        {'title': 'JH_HIT',\n",
    "                        'showlegend':True}]),\n",
    "            dict(label = 'OXCGRT',\n",
    "                method = 'update',\n",
    "                args = [{'visible': [False, False, False, True]},\n",
    "                        {'title': 'OXCGRT',\n",
    "                        'showlegend':True}])],\n",
    "            direction=\"down\",\n",
    "            pad={\"r\": 10, \"t\": 10},\n",
    "            showactive=True,\n",
    "            x=1,\n",
    "            xanchor=\"right\",\n",
    "            y=1.052,\n",
    "            yanchor=\"top\"\n",
    "        ),\n",
    "    ]\n",
    ")\n",
    "\n",
    "fig = fig.update_yaxes(tickfont=dict(size=10))\n",
    "py.iplot(fig)"
   ]
  },
  {
   "cell_type": "code",
   "execution_count": null,
   "metadata": {},
   "outputs": [],
   "source": [
    "m"
   ]
  },
  {
   "cell_type": "markdown",
   "metadata": {},
   "source": [
    "### Sequenced Measures"
   ]
  },
  {
   "cell_type": "code",
   "execution_count": 105,
   "metadata": {},
   "outputs": [],
   "source": [
    "m = master.loc[master['processed'] == 'sequenced', ['dataset', 'who_code', 'who_id']]\n",
    "m = m.groupby(['dataset', 'who_code']).count().reset_index()\n",
    "#m['who_code'] = ['measure_' + x for x in m['who_code']]\n",
    "#m = m.loc[m['dataset'] == 'OXCGRT', :]\n",
    "m = m.pivot(index='who_code', columns='dataset', values='who_id')\n",
    "m = m.sort_values(by = 'OXCGRT', ascending = False)"
   ]
  },
  {
   "cell_type": "code",
   "execution_count": 106,
   "metadata": {
    "scrolled": false
   },
   "outputs": [
    {
     "data": {
      "application/vnd.plotly.v1+json": {
       "config": {
        "linkText": "Export to plot.ly",
        "plotlyServerURL": "https://plot.ly",
        "showLink": false
       },
       "data": [
        {
         "name": "ACAPS",
         "orientation": "h",
         "type": "bar",
         "x": [
          3174,
          2660,
          975,
          861,
          414,
          680,
          587,
          320,
          702,
          201,
          140,
          291,
          81,
          839,
          370,
          792,
          146,
          239,
          287,
          407,
          1309,
          602,
          207,
          144,
          60,
          104,
          37,
          475,
          99,
          137,
          386,
          146,
          80,
          59,
          161,
          67,
          61,
          95,
          13,
          219,
          16,
          31,
          2,
          3,
          1,
          46,
          1,
          4,
          113
         ],
         "y": [
          "12",
          "8.3",
          "10",
          "4.5.1",
          "4.3.3",
          "8.4.1",
          "4.2.2",
          "4.1.2",
          "4.5.2",
          "4.3.4",
          "3.1.1",
          "11",
          "3.2.1",
          "4.2.1",
          "5.3",
          "5.5",
          "4.1.1",
          "4.3.2",
          "5.9",
          "5.7",
          "8.2",
          "8.1",
          "3.1.2",
          "4.4.1",
          "4.5.4",
          "4.5.3",
          "4.3.1",
          "1.4",
          "5.1",
          "8.4.2",
          "8.5",
          "3.1.3",
          "3.2.2",
          "5.4",
          "5.2",
          "5.8",
          "1.6",
          "2.1",
          "5.6",
          "4.4.2",
          "1.1",
          "1.5",
          "1.3",
          "2.2",
          "3.1",
          "4.4.3",
          "6.1",
          "6.2",
          "8.4"
         ]
        },
        {
         "name": "CDC_ITF",
         "orientation": "h",
         "type": "bar",
         "x": [
          2962,
          1,
          64,
          342,
          155,
          1,
          668,
          326,
          725,
          284,
          1,
          157,
          5,
          208,
          225,
          488,
          70,
          59,
          231,
          392,
          null,
          19,
          1,
          12,
          45,
          29,
          10,
          142,
          89,
          null,
          7,
          5,
          6,
          29,
          50,
          22,
          4,
          1,
          16,
          3,
          null,
          null,
          null,
          null,
          null,
          1,
          null,
          null,
          null
         ],
         "y": [
          "12",
          "8.3",
          "10",
          "4.5.1",
          "4.3.3",
          "8.4.1",
          "4.2.2",
          "4.1.2",
          "4.5.2",
          "4.3.4",
          "3.1.1",
          "11",
          "3.2.1",
          "4.2.1",
          "5.3",
          "5.5",
          "4.1.1",
          "4.3.2",
          "5.9",
          "5.7",
          "8.2",
          "8.1",
          "3.1.2",
          "4.4.1",
          "4.5.4",
          "4.5.3",
          "4.3.1",
          "1.4",
          "5.1",
          "8.4.2",
          "8.5",
          "3.1.3",
          "3.2.2",
          "5.4",
          "5.2",
          "5.8",
          "1.6",
          "2.1",
          "5.6",
          "4.4.2",
          "1.1",
          "1.5",
          "1.3",
          "2.2",
          "3.1",
          "4.4.3",
          "6.1",
          "6.2",
          "8.4"
         ]
        },
        {
         "name": "JH_HIT",
         "orientation": "h",
         "type": "bar",
         "x": [
          2473,
          null,
          41,
          227,
          6,
          3,
          3,
          230,
          276,
          null,
          3,
          351,
          null,
          4,
          69,
          141,
          53,
          null,
          96,
          158,
          6,
          145,
          10,
          24,
          67,
          60,
          4,
          181,
          9,
          null,
          4,
          8,
          4,
          20,
          10,
          105,
          3,
          1,
          1,
          2,
          null,
          2,
          null,
          null,
          null,
          5,
          null,
          null,
          null
         ],
         "y": [
          "12",
          "8.3",
          "10",
          "4.5.1",
          "4.3.3",
          "8.4.1",
          "4.2.2",
          "4.1.2",
          "4.5.2",
          "4.3.4",
          "3.1.1",
          "11",
          "3.2.1",
          "4.2.1",
          "5.3",
          "5.5",
          "4.1.1",
          "4.3.2",
          "5.9",
          "5.7",
          "8.2",
          "8.1",
          "3.1.2",
          "4.4.1",
          "4.5.4",
          "4.5.3",
          "4.3.1",
          "1.4",
          "5.1",
          "8.4.2",
          "8.5",
          "3.1.3",
          "3.2.2",
          "5.4",
          "5.2",
          "5.8",
          "1.6",
          "2.1",
          "5.6",
          "4.4.2",
          "1.1",
          "1.5",
          "1.3",
          "2.2",
          "3.1",
          "4.4.3",
          "6.1",
          "6.2",
          "8.4"
         ]
        },
        {
         "name": "OXCGRT",
         "orientation": "h",
         "type": "bar",
         "x": [
          5868,
          3038,
          2328,
          1465,
          1325,
          1222,
          1221,
          1099,
          1070,
          1018,
          923,
          780,
          654,
          602,
          521,
          466,
          310,
          225,
          185,
          173,
          172,
          124,
          101,
          82,
          60,
          58,
          45,
          42,
          39,
          26,
          23,
          21,
          19,
          18,
          14,
          12,
          11,
          6,
          4,
          4,
          2,
          1,
          null,
          null,
          null,
          null,
          null,
          null,
          null
         ],
         "y": [
          "12",
          "8.3",
          "10",
          "4.5.1",
          "4.3.3",
          "8.4.1",
          "4.2.2",
          "4.1.2",
          "4.5.2",
          "4.3.4",
          "3.1.1",
          "11",
          "3.2.1",
          "4.2.1",
          "5.3",
          "5.5",
          "4.1.1",
          "4.3.2",
          "5.9",
          "5.7",
          "8.2",
          "8.1",
          "3.1.2",
          "4.4.1",
          "4.5.4",
          "4.5.3",
          "4.3.1",
          "1.4",
          "5.1",
          "8.4.2",
          "8.5",
          "3.1.3",
          "3.2.2",
          "5.4",
          "5.2",
          "5.8",
          "1.6",
          "2.1",
          "5.6",
          "4.4.2",
          "1.1",
          "1.5",
          "1.3",
          "2.2",
          "3.1",
          "4.4.3",
          "6.1",
          "6.2",
          "8.4"
         ]
        }
       ],
       "layout": {
        "barmode": "stack",
        "height": 1500,
        "paper_bgcolor": "rgba(0,0,0,0)",
        "plot_bgcolor": "rgba(0,0,0,0)",
        "template": {
         "data": {
          "bar": [
           {
            "error_x": {
             "color": "#2a3f5f"
            },
            "error_y": {
             "color": "#2a3f5f"
            },
            "marker": {
             "line": {
              "color": "#E5ECF6",
              "width": 0.5
             }
            },
            "type": "bar"
           }
          ],
          "barpolar": [
           {
            "marker": {
             "line": {
              "color": "#E5ECF6",
              "width": 0.5
             }
            },
            "type": "barpolar"
           }
          ],
          "carpet": [
           {
            "aaxis": {
             "endlinecolor": "#2a3f5f",
             "gridcolor": "white",
             "linecolor": "white",
             "minorgridcolor": "white",
             "startlinecolor": "#2a3f5f"
            },
            "baxis": {
             "endlinecolor": "#2a3f5f",
             "gridcolor": "white",
             "linecolor": "white",
             "minorgridcolor": "white",
             "startlinecolor": "#2a3f5f"
            },
            "type": "carpet"
           }
          ],
          "choropleth": [
           {
            "colorbar": {
             "outlinewidth": 0,
             "ticks": ""
            },
            "type": "choropleth"
           }
          ],
          "contour": [
           {
            "colorbar": {
             "outlinewidth": 0,
             "ticks": ""
            },
            "colorscale": [
             [
              0,
              "#0d0887"
             ],
             [
              0.1111111111111111,
              "#46039f"
             ],
             [
              0.2222222222222222,
              "#7201a8"
             ],
             [
              0.3333333333333333,
              "#9c179e"
             ],
             [
              0.4444444444444444,
              "#bd3786"
             ],
             [
              0.5555555555555556,
              "#d8576b"
             ],
             [
              0.6666666666666666,
              "#ed7953"
             ],
             [
              0.7777777777777778,
              "#fb9f3a"
             ],
             [
              0.8888888888888888,
              "#fdca26"
             ],
             [
              1,
              "#f0f921"
             ]
            ],
            "type": "contour"
           }
          ],
          "contourcarpet": [
           {
            "colorbar": {
             "outlinewidth": 0,
             "ticks": ""
            },
            "type": "contourcarpet"
           }
          ],
          "heatmap": [
           {
            "colorbar": {
             "outlinewidth": 0,
             "ticks": ""
            },
            "colorscale": [
             [
              0,
              "#0d0887"
             ],
             [
              0.1111111111111111,
              "#46039f"
             ],
             [
              0.2222222222222222,
              "#7201a8"
             ],
             [
              0.3333333333333333,
              "#9c179e"
             ],
             [
              0.4444444444444444,
              "#bd3786"
             ],
             [
              0.5555555555555556,
              "#d8576b"
             ],
             [
              0.6666666666666666,
              "#ed7953"
             ],
             [
              0.7777777777777778,
              "#fb9f3a"
             ],
             [
              0.8888888888888888,
              "#fdca26"
             ],
             [
              1,
              "#f0f921"
             ]
            ],
            "type": "heatmap"
           }
          ],
          "heatmapgl": [
           {
            "colorbar": {
             "outlinewidth": 0,
             "ticks": ""
            },
            "colorscale": [
             [
              0,
              "#0d0887"
             ],
             [
              0.1111111111111111,
              "#46039f"
             ],
             [
              0.2222222222222222,
              "#7201a8"
             ],
             [
              0.3333333333333333,
              "#9c179e"
             ],
             [
              0.4444444444444444,
              "#bd3786"
             ],
             [
              0.5555555555555556,
              "#d8576b"
             ],
             [
              0.6666666666666666,
              "#ed7953"
             ],
             [
              0.7777777777777778,
              "#fb9f3a"
             ],
             [
              0.8888888888888888,
              "#fdca26"
             ],
             [
              1,
              "#f0f921"
             ]
            ],
            "type": "heatmapgl"
           }
          ],
          "histogram": [
           {
            "marker": {
             "colorbar": {
              "outlinewidth": 0,
              "ticks": ""
             }
            },
            "type": "histogram"
           }
          ],
          "histogram2d": [
           {
            "colorbar": {
             "outlinewidth": 0,
             "ticks": ""
            },
            "colorscale": [
             [
              0,
              "#0d0887"
             ],
             [
              0.1111111111111111,
              "#46039f"
             ],
             [
              0.2222222222222222,
              "#7201a8"
             ],
             [
              0.3333333333333333,
              "#9c179e"
             ],
             [
              0.4444444444444444,
              "#bd3786"
             ],
             [
              0.5555555555555556,
              "#d8576b"
             ],
             [
              0.6666666666666666,
              "#ed7953"
             ],
             [
              0.7777777777777778,
              "#fb9f3a"
             ],
             [
              0.8888888888888888,
              "#fdca26"
             ],
             [
              1,
              "#f0f921"
             ]
            ],
            "type": "histogram2d"
           }
          ],
          "histogram2dcontour": [
           {
            "colorbar": {
             "outlinewidth": 0,
             "ticks": ""
            },
            "colorscale": [
             [
              0,
              "#0d0887"
             ],
             [
              0.1111111111111111,
              "#46039f"
             ],
             [
              0.2222222222222222,
              "#7201a8"
             ],
             [
              0.3333333333333333,
              "#9c179e"
             ],
             [
              0.4444444444444444,
              "#bd3786"
             ],
             [
              0.5555555555555556,
              "#d8576b"
             ],
             [
              0.6666666666666666,
              "#ed7953"
             ],
             [
              0.7777777777777778,
              "#fb9f3a"
             ],
             [
              0.8888888888888888,
              "#fdca26"
             ],
             [
              1,
              "#f0f921"
             ]
            ],
            "type": "histogram2dcontour"
           }
          ],
          "mesh3d": [
           {
            "colorbar": {
             "outlinewidth": 0,
             "ticks": ""
            },
            "type": "mesh3d"
           }
          ],
          "parcoords": [
           {
            "line": {
             "colorbar": {
              "outlinewidth": 0,
              "ticks": ""
             }
            },
            "type": "parcoords"
           }
          ],
          "pie": [
           {
            "automargin": true,
            "type": "pie"
           }
          ],
          "scatter": [
           {
            "marker": {
             "colorbar": {
              "outlinewidth": 0,
              "ticks": ""
             }
            },
            "type": "scatter"
           }
          ],
          "scatter3d": [
           {
            "line": {
             "colorbar": {
              "outlinewidth": 0,
              "ticks": ""
             }
            },
            "marker": {
             "colorbar": {
              "outlinewidth": 0,
              "ticks": ""
             }
            },
            "type": "scatter3d"
           }
          ],
          "scattercarpet": [
           {
            "marker": {
             "colorbar": {
              "outlinewidth": 0,
              "ticks": ""
             }
            },
            "type": "scattercarpet"
           }
          ],
          "scattergeo": [
           {
            "marker": {
             "colorbar": {
              "outlinewidth": 0,
              "ticks": ""
             }
            },
            "type": "scattergeo"
           }
          ],
          "scattergl": [
           {
            "marker": {
             "colorbar": {
              "outlinewidth": 0,
              "ticks": ""
             }
            },
            "type": "scattergl"
           }
          ],
          "scattermapbox": [
           {
            "marker": {
             "colorbar": {
              "outlinewidth": 0,
              "ticks": ""
             }
            },
            "type": "scattermapbox"
           }
          ],
          "scatterpolar": [
           {
            "marker": {
             "colorbar": {
              "outlinewidth": 0,
              "ticks": ""
             }
            },
            "type": "scatterpolar"
           }
          ],
          "scatterpolargl": [
           {
            "marker": {
             "colorbar": {
              "outlinewidth": 0,
              "ticks": ""
             }
            },
            "type": "scatterpolargl"
           }
          ],
          "scatterternary": [
           {
            "marker": {
             "colorbar": {
              "outlinewidth": 0,
              "ticks": ""
             }
            },
            "type": "scatterternary"
           }
          ],
          "surface": [
           {
            "colorbar": {
             "outlinewidth": 0,
             "ticks": ""
            },
            "colorscale": [
             [
              0,
              "#0d0887"
             ],
             [
              0.1111111111111111,
              "#46039f"
             ],
             [
              0.2222222222222222,
              "#7201a8"
             ],
             [
              0.3333333333333333,
              "#9c179e"
             ],
             [
              0.4444444444444444,
              "#bd3786"
             ],
             [
              0.5555555555555556,
              "#d8576b"
             ],
             [
              0.6666666666666666,
              "#ed7953"
             ],
             [
              0.7777777777777778,
              "#fb9f3a"
             ],
             [
              0.8888888888888888,
              "#fdca26"
             ],
             [
              1,
              "#f0f921"
             ]
            ],
            "type": "surface"
           }
          ],
          "table": [
           {
            "cells": {
             "fill": {
              "color": "#EBF0F8"
             },
             "line": {
              "color": "white"
             }
            },
            "header": {
             "fill": {
              "color": "#C8D4E3"
             },
             "line": {
              "color": "white"
             }
            },
            "type": "table"
           }
          ]
         },
         "layout": {
          "annotationdefaults": {
           "arrowcolor": "#2a3f5f",
           "arrowhead": 0,
           "arrowwidth": 1
          },
          "coloraxis": {
           "colorbar": {
            "outlinewidth": 0,
            "ticks": ""
           }
          },
          "colorscale": {
           "diverging": [
            [
             0,
             "#8e0152"
            ],
            [
             0.1,
             "#c51b7d"
            ],
            [
             0.2,
             "#de77ae"
            ],
            [
             0.3,
             "#f1b6da"
            ],
            [
             0.4,
             "#fde0ef"
            ],
            [
             0.5,
             "#f7f7f7"
            ],
            [
             0.6,
             "#e6f5d0"
            ],
            [
             0.7,
             "#b8e186"
            ],
            [
             0.8,
             "#7fbc41"
            ],
            [
             0.9,
             "#4d9221"
            ],
            [
             1,
             "#276419"
            ]
           ],
           "sequential": [
            [
             0,
             "#0d0887"
            ],
            [
             0.1111111111111111,
             "#46039f"
            ],
            [
             0.2222222222222222,
             "#7201a8"
            ],
            [
             0.3333333333333333,
             "#9c179e"
            ],
            [
             0.4444444444444444,
             "#bd3786"
            ],
            [
             0.5555555555555556,
             "#d8576b"
            ],
            [
             0.6666666666666666,
             "#ed7953"
            ],
            [
             0.7777777777777778,
             "#fb9f3a"
            ],
            [
             0.8888888888888888,
             "#fdca26"
            ],
            [
             1,
             "#f0f921"
            ]
           ],
           "sequentialminus": [
            [
             0,
             "#0d0887"
            ],
            [
             0.1111111111111111,
             "#46039f"
            ],
            [
             0.2222222222222222,
             "#7201a8"
            ],
            [
             0.3333333333333333,
             "#9c179e"
            ],
            [
             0.4444444444444444,
             "#bd3786"
            ],
            [
             0.5555555555555556,
             "#d8576b"
            ],
            [
             0.6666666666666666,
             "#ed7953"
            ],
            [
             0.7777777777777778,
             "#fb9f3a"
            ],
            [
             0.8888888888888888,
             "#fdca26"
            ],
            [
             1,
             "#f0f921"
            ]
           ]
          },
          "colorway": [
           "#636efa",
           "#EF553B",
           "#00cc96",
           "#ab63fa",
           "#FFA15A",
           "#19d3f3",
           "#FF6692",
           "#B6E880",
           "#FF97FF",
           "#FECB52"
          ],
          "font": {
           "color": "#2a3f5f"
          },
          "geo": {
           "bgcolor": "white",
           "lakecolor": "white",
           "landcolor": "#E5ECF6",
           "showlakes": true,
           "showland": true,
           "subunitcolor": "white"
          },
          "hoverlabel": {
           "align": "left"
          },
          "hovermode": "closest",
          "mapbox": {
           "style": "light"
          },
          "paper_bgcolor": "white",
          "plot_bgcolor": "#E5ECF6",
          "polar": {
           "angularaxis": {
            "gridcolor": "white",
            "linecolor": "white",
            "ticks": ""
           },
           "bgcolor": "#E5ECF6",
           "radialaxis": {
            "gridcolor": "white",
            "linecolor": "white",
            "ticks": ""
           }
          },
          "scene": {
           "xaxis": {
            "backgroundcolor": "#E5ECF6",
            "gridcolor": "white",
            "gridwidth": 2,
            "linecolor": "white",
            "showbackground": true,
            "ticks": "",
            "zerolinecolor": "white"
           },
           "yaxis": {
            "backgroundcolor": "#E5ECF6",
            "gridcolor": "white",
            "gridwidth": 2,
            "linecolor": "white",
            "showbackground": true,
            "ticks": "",
            "zerolinecolor": "white"
           },
           "zaxis": {
            "backgroundcolor": "#E5ECF6",
            "gridcolor": "white",
            "gridwidth": 2,
            "linecolor": "white",
            "showbackground": true,
            "ticks": "",
            "zerolinecolor": "white"
           }
          },
          "shapedefaults": {
           "line": {
            "color": "#2a3f5f"
           }
          },
          "ternary": {
           "aaxis": {
            "gridcolor": "white",
            "linecolor": "white",
            "ticks": ""
           },
           "baxis": {
            "gridcolor": "white",
            "linecolor": "white",
            "ticks": ""
           },
           "bgcolor": "#E5ECF6",
           "caxis": {
            "gridcolor": "white",
            "linecolor": "white",
            "ticks": ""
           }
          },
          "title": {
           "x": 0.05
          },
          "xaxis": {
           "automargin": true,
           "gridcolor": "white",
           "linecolor": "white",
           "ticks": "",
           "title": {
            "standoff": 15
           },
           "zerolinecolor": "white",
           "zerolinewidth": 2
          },
          "yaxis": {
           "automargin": true,
           "gridcolor": "white",
           "linecolor": "white",
           "ticks": "",
           "title": {
            "standoff": 15
           },
           "zerolinecolor": "white",
           "zerolinewidth": 2
          }
         }
        },
        "title": {
         "text": "Records per country"
        },
        "updatemenus": [
         {
          "buttons": [
           {
            "args": [
             {
              "visible": [
               true,
               true,
               true,
               true
              ]
             },
             {
              "showlegend": true,
              "title": "All"
             }
            ],
            "label": "All",
            "method": "update"
           },
           {
            "args": [
             {
              "visible": [
               true,
               false,
               false,
               false
              ]
             },
             {
              "showlegend": true,
              "title": "OXCGRT"
             }
            ],
            "label": "ACAPS",
            "method": "update"
           },
           {
            "args": [
             {
              "visible": [
               false,
               true,
               false,
               false
              ]
             },
             {
              "showlegend": true,
              "title": "CDC_ITF"
             }
            ],
            "label": "CDC_ITF",
            "method": "update"
           },
           {
            "args": [
             {
              "visible": [
               false,
               false,
               true,
               false
              ]
             },
             {
              "showlegend": true,
              "title": "JH_HIT"
             }
            ],
            "label": "JH_HIT",
            "method": "update"
           },
           {
            "args": [
             {
              "visible": [
               false,
               false,
               false,
               true
              ]
             },
             {
              "showlegend": true,
              "title": "OXCGRT"
             }
            ],
            "label": "OXCGRT",
            "method": "update"
           }
          ],
          "direction": "down",
          "pad": {
           "r": 10,
           "t": 10
          },
          "showactive": true,
          "x": 1,
          "xanchor": "right",
          "y": 1.052,
          "yanchor": "top"
         }
        ],
        "yaxis": {
         "tickfont": {
          "size": 10
         },
         "type": "category"
        }
       }
      },
      "text/html": [
       "<div>\n",
       "        \n",
       "        \n",
       "            <div id=\"e842cff8-8f6b-4def-872a-721d25fe4751\" class=\"plotly-graph-div\" style=\"height:1500px; width:100%;\"></div>\n",
       "            <script type=\"text/javascript\">\n",
       "                require([\"plotly\"], function(Plotly) {\n",
       "                    window.PLOTLYENV=window.PLOTLYENV || {};\n",
       "                    \n",
       "                if (document.getElementById(\"e842cff8-8f6b-4def-872a-721d25fe4751\")) {\n",
       "                    Plotly.newPlot(\n",
       "                        'e842cff8-8f6b-4def-872a-721d25fe4751',\n",
       "                        [{\"name\": \"ACAPS\", \"orientation\": \"h\", \"type\": \"bar\", \"x\": [3174.0, 2660.0, 975.0, 861.0, 414.0, 680.0, 587.0, 320.0, 702.0, 201.0, 140.0, 291.0, 81.0, 839.0, 370.0, 792.0, 146.0, 239.0, 287.0, 407.0, 1309.0, 602.0, 207.0, 144.0, 60.0, 104.0, 37.0, 475.0, 99.0, 137.0, 386.0, 146.0, 80.0, 59.0, 161.0, 67.0, 61.0, 95.0, 13.0, 219.0, 16.0, 31.0, 2.0, 3.0, 1.0, 46.0, 1.0, 4.0, 113.0], \"y\": [\"12\", \"8.3\", \"10\", \"4.5.1\", \"4.3.3\", \"8.4.1\", \"4.2.2\", \"4.1.2\", \"4.5.2\", \"4.3.4\", \"3.1.1\", \"11\", \"3.2.1\", \"4.2.1\", \"5.3\", \"5.5\", \"4.1.1\", \"4.3.2\", \"5.9\", \"5.7\", \"8.2\", \"8.1\", \"3.1.2\", \"4.4.1\", \"4.5.4\", \"4.5.3\", \"4.3.1\", \"1.4\", \"5.1\", \"8.4.2\", \"8.5\", \"3.1.3\", \"3.2.2\", \"5.4\", \"5.2\", \"5.8\", \"1.6\", \"2.1\", \"5.6\", \"4.4.2\", \"1.1\", \"1.5\", \"1.3\", \"2.2\", \"3.1\", \"4.4.3\", \"6.1\", \"6.2\", \"8.4\"]}, {\"name\": \"CDC_ITF\", \"orientation\": \"h\", \"type\": \"bar\", \"x\": [2962.0, 1.0, 64.0, 342.0, 155.0, 1.0, 668.0, 326.0, 725.0, 284.0, 1.0, 157.0, 5.0, 208.0, 225.0, 488.0, 70.0, 59.0, 231.0, 392.0, null, 19.0, 1.0, 12.0, 45.0, 29.0, 10.0, 142.0, 89.0, null, 7.0, 5.0, 6.0, 29.0, 50.0, 22.0, 4.0, 1.0, 16.0, 3.0, null, null, null, null, null, 1.0, null, null, null], \"y\": [\"12\", \"8.3\", \"10\", \"4.5.1\", \"4.3.3\", \"8.4.1\", \"4.2.2\", \"4.1.2\", \"4.5.2\", \"4.3.4\", \"3.1.1\", \"11\", \"3.2.1\", \"4.2.1\", \"5.3\", \"5.5\", \"4.1.1\", \"4.3.2\", \"5.9\", \"5.7\", \"8.2\", \"8.1\", \"3.1.2\", \"4.4.1\", \"4.5.4\", \"4.5.3\", \"4.3.1\", \"1.4\", \"5.1\", \"8.4.2\", \"8.5\", \"3.1.3\", \"3.2.2\", \"5.4\", \"5.2\", \"5.8\", \"1.6\", \"2.1\", \"5.6\", \"4.4.2\", \"1.1\", \"1.5\", \"1.3\", \"2.2\", \"3.1\", \"4.4.3\", \"6.1\", \"6.2\", \"8.4\"]}, {\"name\": \"JH_HIT\", \"orientation\": \"h\", \"type\": \"bar\", \"x\": [2473.0, null, 41.0, 227.0, 6.0, 3.0, 3.0, 230.0, 276.0, null, 3.0, 351.0, null, 4.0, 69.0, 141.0, 53.0, null, 96.0, 158.0, 6.0, 145.0, 10.0, 24.0, 67.0, 60.0, 4.0, 181.0, 9.0, null, 4.0, 8.0, 4.0, 20.0, 10.0, 105.0, 3.0, 1.0, 1.0, 2.0, null, 2.0, null, null, null, 5.0, null, null, null], \"y\": [\"12\", \"8.3\", \"10\", \"4.5.1\", \"4.3.3\", \"8.4.1\", \"4.2.2\", \"4.1.2\", \"4.5.2\", \"4.3.4\", \"3.1.1\", \"11\", \"3.2.1\", \"4.2.1\", \"5.3\", \"5.5\", \"4.1.1\", \"4.3.2\", \"5.9\", \"5.7\", \"8.2\", \"8.1\", \"3.1.2\", \"4.4.1\", \"4.5.4\", \"4.5.3\", \"4.3.1\", \"1.4\", \"5.1\", \"8.4.2\", \"8.5\", \"3.1.3\", \"3.2.2\", \"5.4\", \"5.2\", \"5.8\", \"1.6\", \"2.1\", \"5.6\", \"4.4.2\", \"1.1\", \"1.5\", \"1.3\", \"2.2\", \"3.1\", \"4.4.3\", \"6.1\", \"6.2\", \"8.4\"]}, {\"name\": \"OXCGRT\", \"orientation\": \"h\", \"type\": \"bar\", \"x\": [5868.0, 3038.0, 2328.0, 1465.0, 1325.0, 1222.0, 1221.0, 1099.0, 1070.0, 1018.0, 923.0, 780.0, 654.0, 602.0, 521.0, 466.0, 310.0, 225.0, 185.0, 173.0, 172.0, 124.0, 101.0, 82.0, 60.0, 58.0, 45.0, 42.0, 39.0, 26.0, 23.0, 21.0, 19.0, 18.0, 14.0, 12.0, 11.0, 6.0, 4.0, 4.0, 2.0, 1.0, null, null, null, null, null, null, null], \"y\": [\"12\", \"8.3\", \"10\", \"4.5.1\", \"4.3.3\", \"8.4.1\", \"4.2.2\", \"4.1.2\", \"4.5.2\", \"4.3.4\", \"3.1.1\", \"11\", \"3.2.1\", \"4.2.1\", \"5.3\", \"5.5\", \"4.1.1\", \"4.3.2\", \"5.9\", \"5.7\", \"8.2\", \"8.1\", \"3.1.2\", \"4.4.1\", \"4.5.4\", \"4.5.3\", \"4.3.1\", \"1.4\", \"5.1\", \"8.4.2\", \"8.5\", \"3.1.3\", \"3.2.2\", \"5.4\", \"5.2\", \"5.8\", \"1.6\", \"2.1\", \"5.6\", \"4.4.2\", \"1.1\", \"1.5\", \"1.3\", \"2.2\", \"3.1\", \"4.4.3\", \"6.1\", \"6.2\", \"8.4\"]}],\n",
       "                        {\"barmode\": \"stack\", \"height\": 1500, \"paper_bgcolor\": \"rgba(0,0,0,0)\", \"plot_bgcolor\": \"rgba(0,0,0,0)\", \"template\": {\"data\": {\"bar\": [{\"error_x\": {\"color\": \"#2a3f5f\"}, \"error_y\": {\"color\": \"#2a3f5f\"}, \"marker\": {\"line\": {\"color\": \"#E5ECF6\", \"width\": 0.5}}, \"type\": \"bar\"}], \"barpolar\": [{\"marker\": {\"line\": {\"color\": \"#E5ECF6\", \"width\": 0.5}}, \"type\": \"barpolar\"}], \"carpet\": [{\"aaxis\": {\"endlinecolor\": \"#2a3f5f\", \"gridcolor\": \"white\", \"linecolor\": \"white\", \"minorgridcolor\": \"white\", \"startlinecolor\": \"#2a3f5f\"}, \"baxis\": {\"endlinecolor\": \"#2a3f5f\", \"gridcolor\": \"white\", \"linecolor\": \"white\", \"minorgridcolor\": \"white\", \"startlinecolor\": \"#2a3f5f\"}, \"type\": \"carpet\"}], \"choropleth\": [{\"colorbar\": {\"outlinewidth\": 0, \"ticks\": \"\"}, \"type\": \"choropleth\"}], \"contour\": [{\"colorbar\": {\"outlinewidth\": 0, \"ticks\": \"\"}, \"colorscale\": [[0.0, \"#0d0887\"], [0.1111111111111111, \"#46039f\"], [0.2222222222222222, \"#7201a8\"], [0.3333333333333333, \"#9c179e\"], [0.4444444444444444, \"#bd3786\"], [0.5555555555555556, \"#d8576b\"], [0.6666666666666666, \"#ed7953\"], [0.7777777777777778, \"#fb9f3a\"], [0.8888888888888888, \"#fdca26\"], [1.0, \"#f0f921\"]], \"type\": \"contour\"}], \"contourcarpet\": [{\"colorbar\": {\"outlinewidth\": 0, \"ticks\": \"\"}, \"type\": \"contourcarpet\"}], \"heatmap\": [{\"colorbar\": {\"outlinewidth\": 0, \"ticks\": \"\"}, \"colorscale\": [[0.0, \"#0d0887\"], [0.1111111111111111, \"#46039f\"], [0.2222222222222222, \"#7201a8\"], [0.3333333333333333, \"#9c179e\"], [0.4444444444444444, \"#bd3786\"], [0.5555555555555556, \"#d8576b\"], [0.6666666666666666, \"#ed7953\"], [0.7777777777777778, \"#fb9f3a\"], [0.8888888888888888, \"#fdca26\"], [1.0, \"#f0f921\"]], \"type\": \"heatmap\"}], \"heatmapgl\": [{\"colorbar\": {\"outlinewidth\": 0, \"ticks\": \"\"}, \"colorscale\": [[0.0, \"#0d0887\"], [0.1111111111111111, \"#46039f\"], [0.2222222222222222, \"#7201a8\"], [0.3333333333333333, \"#9c179e\"], [0.4444444444444444, \"#bd3786\"], [0.5555555555555556, \"#d8576b\"], [0.6666666666666666, \"#ed7953\"], [0.7777777777777778, \"#fb9f3a\"], [0.8888888888888888, \"#fdca26\"], [1.0, \"#f0f921\"]], \"type\": \"heatmapgl\"}], \"histogram\": [{\"marker\": {\"colorbar\": {\"outlinewidth\": 0, \"ticks\": \"\"}}, \"type\": \"histogram\"}], \"histogram2d\": [{\"colorbar\": {\"outlinewidth\": 0, \"ticks\": \"\"}, \"colorscale\": [[0.0, \"#0d0887\"], [0.1111111111111111, \"#46039f\"], [0.2222222222222222, \"#7201a8\"], [0.3333333333333333, \"#9c179e\"], [0.4444444444444444, \"#bd3786\"], [0.5555555555555556, \"#d8576b\"], [0.6666666666666666, \"#ed7953\"], [0.7777777777777778, \"#fb9f3a\"], [0.8888888888888888, \"#fdca26\"], [1.0, \"#f0f921\"]], \"type\": \"histogram2d\"}], \"histogram2dcontour\": [{\"colorbar\": {\"outlinewidth\": 0, \"ticks\": \"\"}, \"colorscale\": [[0.0, \"#0d0887\"], [0.1111111111111111, \"#46039f\"], [0.2222222222222222, \"#7201a8\"], [0.3333333333333333, \"#9c179e\"], [0.4444444444444444, \"#bd3786\"], [0.5555555555555556, \"#d8576b\"], [0.6666666666666666, \"#ed7953\"], [0.7777777777777778, \"#fb9f3a\"], [0.8888888888888888, \"#fdca26\"], [1.0, \"#f0f921\"]], \"type\": \"histogram2dcontour\"}], \"mesh3d\": [{\"colorbar\": {\"outlinewidth\": 0, \"ticks\": \"\"}, \"type\": \"mesh3d\"}], \"parcoords\": [{\"line\": {\"colorbar\": {\"outlinewidth\": 0, \"ticks\": \"\"}}, \"type\": \"parcoords\"}], \"pie\": [{\"automargin\": true, \"type\": \"pie\"}], \"scatter\": [{\"marker\": {\"colorbar\": {\"outlinewidth\": 0, \"ticks\": \"\"}}, \"type\": \"scatter\"}], \"scatter3d\": [{\"line\": {\"colorbar\": {\"outlinewidth\": 0, \"ticks\": \"\"}}, \"marker\": {\"colorbar\": {\"outlinewidth\": 0, \"ticks\": \"\"}}, \"type\": \"scatter3d\"}], \"scattercarpet\": [{\"marker\": {\"colorbar\": {\"outlinewidth\": 0, \"ticks\": \"\"}}, \"type\": \"scattercarpet\"}], \"scattergeo\": [{\"marker\": {\"colorbar\": {\"outlinewidth\": 0, \"ticks\": \"\"}}, \"type\": \"scattergeo\"}], \"scattergl\": [{\"marker\": {\"colorbar\": {\"outlinewidth\": 0, \"ticks\": \"\"}}, \"type\": \"scattergl\"}], \"scattermapbox\": [{\"marker\": {\"colorbar\": {\"outlinewidth\": 0, \"ticks\": \"\"}}, \"type\": \"scattermapbox\"}], \"scatterpolar\": [{\"marker\": {\"colorbar\": {\"outlinewidth\": 0, \"ticks\": \"\"}}, \"type\": \"scatterpolar\"}], \"scatterpolargl\": [{\"marker\": {\"colorbar\": {\"outlinewidth\": 0, \"ticks\": \"\"}}, \"type\": \"scatterpolargl\"}], \"scatterternary\": [{\"marker\": {\"colorbar\": {\"outlinewidth\": 0, \"ticks\": \"\"}}, \"type\": \"scatterternary\"}], \"surface\": [{\"colorbar\": {\"outlinewidth\": 0, \"ticks\": \"\"}, \"colorscale\": [[0.0, \"#0d0887\"], [0.1111111111111111, \"#46039f\"], [0.2222222222222222, \"#7201a8\"], [0.3333333333333333, \"#9c179e\"], [0.4444444444444444, \"#bd3786\"], [0.5555555555555556, \"#d8576b\"], [0.6666666666666666, \"#ed7953\"], [0.7777777777777778, \"#fb9f3a\"], [0.8888888888888888, \"#fdca26\"], [1.0, \"#f0f921\"]], \"type\": \"surface\"}], \"table\": [{\"cells\": {\"fill\": {\"color\": \"#EBF0F8\"}, \"line\": {\"color\": \"white\"}}, \"header\": {\"fill\": {\"color\": \"#C8D4E3\"}, \"line\": {\"color\": \"white\"}}, \"type\": \"table\"}]}, \"layout\": {\"annotationdefaults\": {\"arrowcolor\": \"#2a3f5f\", \"arrowhead\": 0, \"arrowwidth\": 1}, \"coloraxis\": {\"colorbar\": {\"outlinewidth\": 0, \"ticks\": \"\"}}, \"colorscale\": {\"diverging\": [[0, \"#8e0152\"], [0.1, \"#c51b7d\"], [0.2, \"#de77ae\"], [0.3, \"#f1b6da\"], [0.4, \"#fde0ef\"], [0.5, \"#f7f7f7\"], [0.6, \"#e6f5d0\"], [0.7, \"#b8e186\"], [0.8, \"#7fbc41\"], [0.9, \"#4d9221\"], [1, \"#276419\"]], \"sequential\": [[0.0, \"#0d0887\"], [0.1111111111111111, \"#46039f\"], [0.2222222222222222, \"#7201a8\"], [0.3333333333333333, \"#9c179e\"], [0.4444444444444444, \"#bd3786\"], [0.5555555555555556, \"#d8576b\"], [0.6666666666666666, \"#ed7953\"], [0.7777777777777778, \"#fb9f3a\"], [0.8888888888888888, \"#fdca26\"], [1.0, \"#f0f921\"]], \"sequentialminus\": [[0.0, \"#0d0887\"], [0.1111111111111111, \"#46039f\"], [0.2222222222222222, \"#7201a8\"], [0.3333333333333333, \"#9c179e\"], [0.4444444444444444, \"#bd3786\"], [0.5555555555555556, \"#d8576b\"], [0.6666666666666666, \"#ed7953\"], [0.7777777777777778, \"#fb9f3a\"], [0.8888888888888888, \"#fdca26\"], [1.0, \"#f0f921\"]]}, \"colorway\": [\"#636efa\", \"#EF553B\", \"#00cc96\", \"#ab63fa\", \"#FFA15A\", \"#19d3f3\", \"#FF6692\", \"#B6E880\", \"#FF97FF\", \"#FECB52\"], \"font\": {\"color\": \"#2a3f5f\"}, \"geo\": {\"bgcolor\": \"white\", \"lakecolor\": \"white\", \"landcolor\": \"#E5ECF6\", \"showlakes\": true, \"showland\": true, \"subunitcolor\": \"white\"}, \"hoverlabel\": {\"align\": \"left\"}, \"hovermode\": \"closest\", \"mapbox\": {\"style\": \"light\"}, \"paper_bgcolor\": \"white\", \"plot_bgcolor\": \"#E5ECF6\", \"polar\": {\"angularaxis\": {\"gridcolor\": \"white\", \"linecolor\": \"white\", \"ticks\": \"\"}, \"bgcolor\": \"#E5ECF6\", \"radialaxis\": {\"gridcolor\": \"white\", \"linecolor\": \"white\", \"ticks\": \"\"}}, \"scene\": {\"xaxis\": {\"backgroundcolor\": \"#E5ECF6\", \"gridcolor\": \"white\", \"gridwidth\": 2, \"linecolor\": \"white\", \"showbackground\": true, \"ticks\": \"\", \"zerolinecolor\": \"white\"}, \"yaxis\": {\"backgroundcolor\": \"#E5ECF6\", \"gridcolor\": \"white\", \"gridwidth\": 2, \"linecolor\": \"white\", \"showbackground\": true, \"ticks\": \"\", \"zerolinecolor\": \"white\"}, \"zaxis\": {\"backgroundcolor\": \"#E5ECF6\", \"gridcolor\": \"white\", \"gridwidth\": 2, \"linecolor\": \"white\", \"showbackground\": true, \"ticks\": \"\", \"zerolinecolor\": \"white\"}}, \"shapedefaults\": {\"line\": {\"color\": \"#2a3f5f\"}}, \"ternary\": {\"aaxis\": {\"gridcolor\": \"white\", \"linecolor\": \"white\", \"ticks\": \"\"}, \"baxis\": {\"gridcolor\": \"white\", \"linecolor\": \"white\", \"ticks\": \"\"}, \"bgcolor\": \"#E5ECF6\", \"caxis\": {\"gridcolor\": \"white\", \"linecolor\": \"white\", \"ticks\": \"\"}}, \"title\": {\"x\": 0.05}, \"xaxis\": {\"automargin\": true, \"gridcolor\": \"white\", \"linecolor\": \"white\", \"ticks\": \"\", \"title\": {\"standoff\": 15}, \"zerolinecolor\": \"white\", \"zerolinewidth\": 2}, \"yaxis\": {\"automargin\": true, \"gridcolor\": \"white\", \"linecolor\": \"white\", \"ticks\": \"\", \"title\": {\"standoff\": 15}, \"zerolinecolor\": \"white\", \"zerolinewidth\": 2}}}, \"title\": {\"text\": \"Records per country\"}, \"updatemenus\": [{\"buttons\": [{\"args\": [{\"visible\": [true, true, true, true]}, {\"showlegend\": true, \"title\": \"All\"}], \"label\": \"All\", \"method\": \"update\"}, {\"args\": [{\"visible\": [true, false, false, false]}, {\"showlegend\": true, \"title\": \"OXCGRT\"}], \"label\": \"ACAPS\", \"method\": \"update\"}, {\"args\": [{\"visible\": [false, true, false, false]}, {\"showlegend\": true, \"title\": \"CDC_ITF\"}], \"label\": \"CDC_ITF\", \"method\": \"update\"}, {\"args\": [{\"visible\": [false, false, true, false]}, {\"showlegend\": true, \"title\": \"JH_HIT\"}], \"label\": \"JH_HIT\", \"method\": \"update\"}, {\"args\": [{\"visible\": [false, false, false, true]}, {\"showlegend\": true, \"title\": \"OXCGRT\"}], \"label\": \"OXCGRT\", \"method\": \"update\"}], \"direction\": \"down\", \"pad\": {\"r\": 10, \"t\": 10}, \"showactive\": true, \"x\": 1, \"xanchor\": \"right\", \"y\": 1.052, \"yanchor\": \"top\"}], \"yaxis\": {\"tickfont\": {\"size\": 10}, \"type\": \"category\"}},\n",
       "                        {\"responsive\": true}\n",
       "                    ).then(function(){\n",
       "                            \n",
       "var gd = document.getElementById('e842cff8-8f6b-4def-872a-721d25fe4751');\n",
       "var x = new MutationObserver(function (mutations, observer) {{\n",
       "        var display = window.getComputedStyle(gd).display;\n",
       "        if (!display || display === 'none') {{\n",
       "            console.log([gd, 'removed!']);\n",
       "            Plotly.purge(gd);\n",
       "            observer.disconnect();\n",
       "        }}\n",
       "}});\n",
       "\n",
       "// Listen for the removal of the full notebook cells\n",
       "var notebookContainer = gd.closest('#notebook-container');\n",
       "if (notebookContainer) {{\n",
       "    x.observe(notebookContainer, {childList: true});\n",
       "}}\n",
       "\n",
       "// Listen for the clearing of the current output cell\n",
       "var outputEl = gd.closest('.output');\n",
       "if (outputEl) {{\n",
       "    x.observe(outputEl, {childList: true});\n",
       "}}\n",
       "\n",
       "                        })\n",
       "                };\n",
       "                });\n",
       "            </script>\n",
       "        </div>"
      ]
     },
     "metadata": {},
     "output_type": "display_data"
    }
   ],
   "source": [
    "fig = go.Figure()\n",
    "\n",
    "fig.update_yaxes(type='category')\n",
    "\n",
    "for column in m.columns.to_list():\n",
    "    fig.add_trace(\n",
    "        go.Bar(\n",
    "            y = m.index,\n",
    "            x = m[column],\n",
    "            name = column,\n",
    "            orientation='h'\n",
    "        )\n",
    "    )\n",
    "    \n",
    "fig.update_layout(\n",
    "    height = 1500,\n",
    "    barmode='stack',\n",
    "    title = \"Records per WHO code\",\n",
    "    paper_bgcolor='rgba(0,0,0,0)',\n",
    "    plot_bgcolor='rgba(0,0,0,0)',\n",
    "    updatemenus=[\n",
    "        dict(\n",
    "            buttons=[dict(label = 'All',\n",
    "                  method = 'update',\n",
    "                  args = [{'visible': [True, True, True, True]},\n",
    "                          {'title': 'All',\n",
    "                           'showlegend':True}]),\n",
    "             dict(label = 'ACAPS',\n",
    "                  method = 'update',\n",
    "                  args = [{'visible': [True, False, False, False]},\n",
    "                          {'title': 'OXCGRT',\n",
    "                          'showlegend':True}]),\n",
    "            dict(label = 'CDC_ITF',\n",
    "                method = 'update',\n",
    "                args = [{'visible': [False, True, False, False]},\n",
    "                        {'title': 'CDC_ITF',\n",
    "                        'showlegend':True}]),\n",
    "            dict(label = 'JH_HIT',\n",
    "                method = 'update',\n",
    "                args = [{'visible': [False, False, True, False]},\n",
    "                        {'title': 'JH_HIT',\n",
    "                        'showlegend':True}]),\n",
    "            dict(label = 'OXCGRT',\n",
    "                method = 'update',\n",
    "                args = [{'visible': [False, False, False, True]},\n",
    "                        {'title': 'OXCGRT',\n",
    "                        'showlegend':True}])],\n",
    "            direction=\"down\",\n",
    "            pad={\"r\": 10, \"t\": 10},\n",
    "            showactive=True,\n",
    "            x=1,\n",
    "            xanchor=\"right\",\n",
    "            y=1.052,\n",
    "            yanchor=\"top\"\n",
    "        ),\n",
    "    ]\n",
    ")\n",
    "\n",
    "fig = fig.update_yaxes(tickfont=dict(size=10))\n",
    "py.iplot(fig)"
   ]
  },
  {
   "cell_type": "code",
   "execution_count": null,
   "metadata": {},
   "outputs": [],
   "source": [
    "m"
   ]
  }
 ],
 "metadata": {
  "kernelspec": {
   "display_name": "Python 3",
   "language": "python",
   "name": "python3"
  },
  "language_info": {
   "codemirror_mode": {
    "name": "ipython",
    "version": 3
   },
   "file_extension": ".py",
   "mimetype": "text/x-python",
   "name": "python",
   "nbconvert_exporter": "python",
   "pygments_lexer": "ipython3",
   "version": "3.7.6"
  }
 },
 "nbformat": 4,
 "nbformat_minor": 4
}
